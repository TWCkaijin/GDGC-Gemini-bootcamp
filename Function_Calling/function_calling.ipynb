{
  "cells": [
    {
      "cell_type": "code",
      "execution_count": null,
      "metadata": {
        "id": "ijGzTHJJUCPY"
      },
      "outputs": [],
      "source": [
        "# Copyright 2024 Google LLC\n",
        "#\n",
        "# Licensed under the Apache License, Version 2.0 (the \"License\");\n",
        "# you may not use this file except in compliance with the License.\n",
        "# You may obtain a copy of the License at\n",
        "#\n",
        "#     https://www.apache.org/licenses/LICENSE-2.0\n",
        "#\n",
        "# Unless required by applicable law or agreed to in writing, software\n",
        "# distributed under the License is distributed on an \"AS IS\" BASIS,\n",
        "# WITHOUT WARRANTIES OR CONDITIONS OF ANY KIND, either express or implied.\n",
        "# See the License for the specific language governing permissions and\n",
        "# limitations under the License.\n",
        "# \"https://colab.research.google.com/github/TWCkaijin/GDGC-Gemini-bootcamp/blob/main/function_calling.ipynb\""
      ]
    },
    {
      "cell_type": "markdown",
      "metadata": {
        "id": "VEqbX8OhE8y9"
      },
      "source": [
        "# Function Calling 與 Gemini API & Python SDK 介紹\n",
        "\n",
        "<table align=\"left\">\n",
        "  <td style=\"text-align: center\">\n",
        "    <a href=\"https://colab.research.google.com/github/TWCkaijin/GDGC-Gemini-bootcamp/blob/main/function_calling/function_calling.ipynb\">\n",
        "      <img width=\"32px\" src=\"https://www.gstatic.com/pantheon/images/bigquery/welcome_page/colab-logo.svg\" alt=\"Google Colaboratory logo\"><br> Open in Colab\n",
        "    </a>\n",
        "  </td>\n",
        "  <td style=\"text-align: center\">\n",
        "    <a href=\"https://console.cloud.google.com/vertex-ai/colab/import/https:%2F%2Fraw.githubusercontent.com%2FTWCkaijin%2FGDGC-Gemini-bootcamp%2Fmain%2Ffunction_calling%2function_calling.ipynb\">\n",
        "      <img width=\"32px\" src=\"https://lh3.googleusercontent.com/JmcxdQi-qOpctIvWKgPtrzZdJJK-J3sWE1RsfjZNwshCFgE_9fULcNpuXYTilIR2hjwN\" alt=\"Google Cloud Colab Enterprise logo\"><br> Open in Colab Enterprise\n",
        "    </a>\n",
        "  </td>\n",
        "  <td style=\"text-align: center\">\n",
        "    <a href=\"https://console.cloud.google.com/vertex-ai/workbench/deploy-notebook?download_url=https://raw.githubusercontent.com/GoogleCloudPlatform/generative-ai/main/gemini/multimodal-live-api/intro_multimodal_live_api_genai_sdk.ipynb\">\n",
        "      <img src=\"https://www.gstatic.com/images/branding/gcpiconscolors/vertexai/v1/32px.svg\" alt=\"Vertex AI logo\"><br> Open in Vertex AI Workbench\n",
        "    </a>\n",
        "  </td>\n",
        "  <td style=\"text-align: center\">\n",
        "    <a href=\"https://github.com/GoogleCloudPlatform/generative-ai/blob/main/gemini/multimodal-live-api/intro_multimodal_live_api_genai_sdk.ipynb\">\n",
        "      <img width=\"32px\" src=\"https://www.svgrepo.com/download/217753/github.svg\" alt=\"GitHub logo\"><br> View on GitHub\n",
        "    </a>\n",
        "  </td>\n",
        "</table>\n",
        "\n",
        "<div style=\"clear: both;\"></div>\n",
        "\n",
        "<b>Share to:</b>\n",
        "\n",
        "<a href=\"https://www.linkedin.com/sharing/share-offsite/?url=https%3A//github.com/GoogleCloudPlatform/generative-ai/blob/main/gemini/multimodal-live-api/intro_multimodal_live_api_genai_sdk.ipynb\" target=\"_blank\">\n",
        "  <img width=\"20px\" src=\"https://upload.wikimedia.org/wikipedia/commons/8/81/LinkedIn_icon.svg\" alt=\"LinkedIn logo\">\n",
        "</a>\n",
        "\n",
        "<a href=\"https://bsky.app/intent/compose?text=https%3A//github.com/GoogleCloudPlatform/generative-ai/blob/main/gemini/multimodal-live-api/intro_multimodal_live_api_genai_sdk.ipynb\" target=\"_blank\">\n",
        "  <img width=\"20px\" src=\"https://upload.wikimedia.org/wikipedia/commons/7/7a/Bluesky_Logo.svg\" alt=\"Bluesky logo\">\n",
        "</a>\n",
        "\n",
        "<a href=\"https://twitter.com/intent/tweet?url=https%3A//github.com/GoogleCloudPlatform/generative-ai/blob/main/gemini/multimodal-live-api/intro_multimodal_live_api_genai_sdk.ipynb\" target=\"_blank\">\n",
        "  <img width=\"20px\" src=\"https://upload.wikimedia.org/wikipedia/commons/5/5a/X_icon_2.svg\" alt=\"X logo\">\n",
        "</a>\n",
        "\n",
        "<a href=\"https://reddit.com/submit?url=https%3A//github.com/GoogleCloudPlatform/generative-ai/blob/main/gemini/multimodal-live-api/intro_multimodal_live_api_genai_sdk.ipynb\" target=\"_blank\">\n",
        "  <img width=\"20px\" src=\"https://redditinc.com/hubfs/Reddit%20Inc/Brand/Reddit_Logo.png\" alt=\"Reddit logo\">\n",
        "</a>\n",
        "\n",
        "<a href=\"https://www.facebook.com/sharer/sharer.php?u=https%3A//github.com/GoogleCloudPlatform/generative-ai/blob/main/gemini/multimodal-live-api/intro_multimodal_live_api_genai_sdk.ipynb\" target=\"_blank\">\n",
        "  <img width=\"20px\" src=\"https://upload.wikimedia.org/wikipedia/commons/5/51/Facebook_f_logo_%282019%29.svg\" alt=\"Facebook logo\">\n",
        "</a>\n"
      ]
    },
    {
      "cell_type": "markdown",
      "metadata": {
        "id": "84e7e432e6ff"
      },
      "source": [
        "| | |\n",
        "|-|-|\n",
        "|Author(s) | [Kristopher Overholt](https://github.com/koverholt) [Holt Skinner](https://github.com/holtskinner) |"
      ]
    },
    {
      "cell_type": "markdown",
      "metadata": {
        "id": "CkHPv2myT2cx"
      },
      "source": [
        "概述\n",
        "YouTube 影片：AI + 你的程式碼：函式呼叫（Function Calling）\n",
        "\n",
        "<a href=\"https://www.youtube.com/watch?v=NbAGbXr4DME&list=PLIivdWyY5sqLvGdVLJZh2EMax97_T-OIB\" target=\"_blank\"> <img src=\"https://img.youtube.com/vi/NbAGbXr4DME/maxresdefault.jpg\" alt=\"AI + 你的程式碼：函式呼叫\" width=\"500\"> </a>\n",
        "\n",
        "</br>\n",
        "\n",
        "## Gemini\n",
        "Gemini 是 Google DeepMind 開發的一系列生成式 AI 模型，專為多模態（multimodal）應用場景設計。\n",
        "\n",
        "\n",
        "</br>\n",
        "\n",
        "## 從 Gemini 呼叫函式\n",
        "函式呼叫（Function Calling） 讓開發者可以在程式碼中描述一個函式，然後將該描述傳遞給語言模型進行請求。模型的回應會包含符合該描述的函式名稱以及應該使用的參數。\n",
        "\n",
        "</br>\n",
        "\n",
        "## 為什麼要使用函式呼叫？\n",
        "想像一下，如果你請某人記錄重要資訊，但沒有提供表格或任何格式指引，對方可能會寫出一篇流暢的文章，但如果你需要從中提取特定的姓名、日期或數字，將會非常費力！同樣地，若沒有函式呼叫，想要從生成式文本模型獲得一致的結構化數據會是一大挑戰。你可能得不斷要求模型輸出 JSON 格式，但結果往往不穩定且令人沮喪。\n",
        "\n",
        "這正是 Gemini 函式呼叫 的優勢所在。與其期待從自由格式的文本回應中拼湊出所需資訊，不如直接定義清楚的函式，並指定具體的參數和資料型別。這些函式定義相當於結構化的指引，能讓 Gemini 以可預測且可用的方式輸出結果。這樣一來，你就不需要再從文字回應中手動解析重要資訊了！\n",
        "\n",
        "可以把它想像成教 Gemini 如何與你的應用程式對話。\n",
        "需要從資料庫檢索資訊？定義一個 search_db 函式，並指定搜尋條件作為參數。\n",
        "想要與天氣 API 整合？建立一個 get_weather 函式，並讓它接收地點作為輸入。\n",
        "函式呼叫能夠橋接自然語言與結構化數據，讓 AI 更輕鬆地與外部系統互動！"
      ]
    },
    {
      "cell_type": "markdown",
      "metadata": {
        "id": "DrkcqHrrwMAo"
      },
      "source": [
        "## 任務目標\n",
        "在本教學中，你將學習如何在 Vertex AI 中使用 Gemini API，並透過 Vertex AI SDK for Python 來使用 Gemini 2.0 Flash (gemini-2.0-flash) 模型進行函式呼叫（Function Calling）。\n",
        "\n",
        "你將完成以下任務：\n",
        "\n",
        "- 安裝 _Google Gen AI SDK for Python_\n",
        "- 在 _Vertex AI_ 中使用 _Gemini API_ 與 _Gemini_ 模型互動：\n",
        "- 在聊天會話（chat session）中使用 函式呼叫，回答使用者關於 Google Store 產品的問題\n",
        "- 使用 _Function Calling_ 透過 地圖 API 進行地址地理編碼（geocoding）\n",
        "- 使用 _Function Calling_ 在 原始日誌數據（raw logging data） 中進行實體擷取（entity extraction）"
      ]
    },
    {
      "cell_type": "markdown",
      "metadata": {
        "id": "C9nEPojogw-g"
      },
      "source": [
        "付費資源\n",
        "本教學將使用 Google Cloud 中的 計費 功能：\n",
        "\n",
        "- Vertex AI\n",
        "請參閱 [Vertex AI](https://cloud.google.com/vertex-ai/pricing)價格 以了解詳細計費資訊，並使用 [費用估算](https://cloud.google.com/products/calculator/) 根據你的預計使用量估算成本。"
      ]
    },
    {
      "cell_type": "markdown",
      "metadata": {
        "id": "r11Gu7qNgx1p"
      },
      "source": [
        "## Getting Started\n"
      ]
    },
    {
      "cell_type": "markdown",
      "metadata": {
        "id": "No17Cw5hgx12"
      },
      "source": [
        "### 安裝 Google Gen AI SDK 套件\n"
      ]
    },
    {
      "cell_type": "code",
      "execution_count": null,
      "metadata": {
        "id": "tFy3H3aPgx12"
      },
      "outputs": [],
      "source": [
        "%pip install --upgrade  google-genai"
      ]
    },
    {
      "cell_type": "markdown",
      "metadata": {
        "id": "R5Xep4W9lq-Z"
      },
      "source": [
        "### 重啟Colab執行個體\n",
        "\n",
        "您剛剛安裝了一個套件，為確保他正確載入，我們將重啟執行個體"
      ]
    },
    {
      "cell_type": "code",
      "execution_count": null,
      "metadata": {
        "id": "XRvKdaPDTznN"
      },
      "outputs": [],
      "source": [
        "# Restart kernel after installs so that your environment can access the new packages\n",
        "import IPython\n",
        "\n",
        "\"\"\" app = IPython.Application.instance()\n",
        "app.kernel.do_shutdown(True) \"\"\""
      ]
    },
    {
      "cell_type": "markdown",
      "metadata": {
        "id": "SbmM4z7FOBpM"
      },
      "source": [
        "<div class=\"alert alert-block alert-warning\">\n",
        "<b>⚠️ 您的執行個體將會重啟，您會在左下角看到警示訊息 ⚠️</b>\n",
        "</div>\n"
      ]
    },
    {
      "cell_type": "markdown",
      "metadata": {
        "id": "dmWOrTJ3gx13"
      },
      "source": [
        "### 驗證Colab環境 (Colab only)"
      ]
    },
    {
      "cell_type": "code",
      "execution_count": 6,
      "metadata": {
        "id": "NyKGtVQjgx13"
      },
      "outputs": [],
      "source": [
        "import sys\n",
        "\n",
        "if \"google.colab\" in sys.modules:\n",
        "    from google.colab import auth\n",
        "\n",
        "    auth.authenticate_user()\n",
        "else: \n",
        "    from google.oauth2.service_account import Credentials\n",
        "    SERVICE_ACCOUNT_FILE = 'secret.json'  # Path to your JSON file\n",
        "    SCOPES = ['https://www.googleapis.com/auth/cloud-platform']  # IMPORTANT: Add the explicit scope\n",
        "    creds = Credentials.from_service_account_file(SERVICE_ACCOUNT_FILE, scopes=SCOPES)"
      ]
    },
    {
      "cell_type": "markdown",
      "metadata": {
        "id": "DF4l8DTdWgPY"
      },
      "source": [
        "### 設定 Google Cloud Platform 專案資訊\n",
        "\n",
        "\n",
        "要開始使用 Vertex AI，你需要擁有一個 現有的 Google Cloud 專案，並[啟用 Vertex AI API](https://console.cloud.google.com/flows/enableapi?apiid=aiplatform.googleapis.com)。\n",
        "\n",
        "你可以參考[設定專案與開發環境](https://cloud.google.com/vertex-ai/docs/start/cloud-environment)來了解更多詳細資訊。"
      ]
    },
    {
      "cell_type": "code",
      "execution_count": 7,
      "metadata": {
        "id": "Nqwi-5ufWp_B"
      },
      "outputs": [],
      "source": [
        "import os\n",
        "\n",
        "PROJECT_ID = \"side-projcet-placeholder\"  # @param {type: \"string\", placeholder: \"[your-project-id]\", isTemplate: true}\n",
        "if not PROJECT_ID or PROJECT_ID == \"[your-project-id]\":\n",
        "    PROJECT_ID = str(os.environ.get(\"GOOGLE_CLOUD_PROJECT\"))\n",
        "\n",
        "LOCATION = os.environ.get(\"GOOGLE_CLOUD_REGION\", \"us-central1\")\n",
        "\n",
        "from google import genai\n",
        "\n",
        "client = genai.Client(vertexai=True, project=PROJECT_ID, location=LOCATION, credentials=creds)"
      ]
    },
    {
      "cell_type": "markdown",
      "metadata": {
        "id": "92e02c3e0375"
      },
      "source": [
        "## 範例程式碼"
      ]
    },
    {
      "cell_type": "markdown",
      "metadata": {
        "id": "5671450907ec"
      },
      "source": [
        "### 選擇模型\n",
        "\n",
        "想要了解更多關於Vertax AI 的 AI 模型 和 APIs, see [Google Models](https://cloud.google.com/vertex-ai/generative-ai/docs/learn/models#gemini-models) and [Model Garden](https://cloud.google.com/vertex-ai/generative-ai/docs/model-garden/explore-models)."
      ]
    },
    {
      "cell_type": "code",
      "execution_count": 8,
      "metadata": {
        "id": "41e499d90618"
      },
      "outputs": [],
      "source": [
        "MODEL_ID = \"gemini-2.0-flash-001\"  # @param {type: \"string\"}"
      ]
    },
    {
      "cell_type": "markdown",
      "metadata": {
        "id": "jXHfaVS66_01"
      },
      "source": [
        "### 載入套件\n"
      ]
    },
    {
      "cell_type": "code",
      "execution_count": 9,
      "metadata": {
        "id": "lslYAvw37JGQ"
      },
      "outputs": [],
      "source": [
        "from IPython.display import Markdown, display\n",
        "from google.genai.types import FunctionDeclaration, GenerateContentConfig, Part, Tool, Schema\n",
        "import requests"
      ]
    },
    {
      "cell_type": "markdown",
      "metadata": {
        "id": "28f36bd968b4"
      },
      "source": [
        "### 聊天範例：在聊天會話中使用函式呼叫回答使用者關於 Google Store 的問題\n"
      ]
    },
    {
      "cell_type": "markdown",
      "metadata": {
        "id": "2d28287bde87"
      },
      "source": [
        "在這個範例中，我們將使用 Gemini 的函式呼叫（Function Calling） 來建立一個聊天機器人，該機器人可以回答使用者關於 Google Store 產品的問題。\n",
        "\n",
        "這樣的應用可以讓 AI 透過結構化的函式呼叫，而不是單純生成自由格式的文字，來提供更準確和一致的資訊。"
      ]
    },
    {
      "cell_type": "code",
      "execution_count": null,
      "metadata": {
        "id": "3d4ed7ccc094"
      },
      "outputs": [],
      "source": [
        "get_product_info = FunctionDeclaration(\n",
        "    name=\"get_product_info\",\n",
        "    description=\"Get the stock amount and identifier for a given product\",\n",
        "    parameters={\n",
        "        \"type\": \"OBJECT\",\n",
        "        \"properties\": {\n",
        "            \"product_name\": {\"type\": \"STRING\", \"description\": \"Product name\"}\n",
        "        },\n",
        "    },\n",
        ")\n",
        "\n",
        "get_store_location = FunctionDeclaration(\n",
        "    name=\"get_store_location\",\n",
        "    description=\"Get the location of the closest store\",\n",
        "    parameters={\n",
        "        \"type\": \"OBJECT\",\n",
        "        \"properties\": {\"location\": {\"type\": \"STRING\", \"description\": \"Location\"}},\n",
        "    },\n",
        ")\n",
        "\n",
        "place_order = FunctionDeclaration(\n",
        "    name=\"place_order\",\n",
        "    description=\"Place an order\",\n",
        "    parameters={\n",
        "        \"type\": \"OBJECT\",\n",
        "        \"properties\": {\n",
        "            \"product\": {\"type\": \"STRING\", \"description\": \"Product name\"},\n",
        "            \"address\": {\"type\": \"STRING\", \"description\": \"Shipping address\"},\n",
        "        },\n",
        "    },\n",
        ")\n",
        "\n",
        "place_order = FunctionDeclaration(\n",
        "    name=\"place_order\",\n",
        "    description=\"Place an order\",\n",
        "    parameters={\n",
        "        \"type\": \"OBJECT\",\n",
        "        \"properties\": {\n",
        "            \"product\": {\"type\": \"STRING\", \"description\": \"Product name\"},\n",
        "            \"address\": {\"type\": \"STRING\", \"description\": \"Shipping address\"},\n",
        "        },\n",
        "    },\n",
        ")\n",
        "    \n"
      ]
    },
    {
      "cell_type": "markdown",
      "metadata": {
        "id": "e7d7319febd8"
      },
      "source": [
        "\n",
        "請注意，函式參數需按照 [OpenAPI JSON Schema](https://spec.openapis.org/oas/v3.0.3#schemawr).\n",
        " 格式 以 Python 字典（dictionary） 形式指定。\n",
        "\n",
        "以下是定義工具（tool）的方法，讓 Gemini 模型 可以從 3 個函式 中進行選擇：\n"
      ]
    },
    {
      "cell_type": "code",
      "execution_count": null,
      "metadata": {
        "id": "4b2d1900730d"
      },
      "outputs": [],
      "source": [
        "retail_tool = Tool(\n",
        "    function_declarations=[\n",
        "        get_product_info,\n",
        "        get_store_location,\n",
        "        place_order,\n",
        "    ],\n",
        ")"
      ]
    },
    {
      "cell_type": "markdown",
      "metadata": {
        "id": "2b3781f6fd83"
      },
      "source": [
        "現在，你可以在多輪對話（multi-turn chat session）中初始化 Gemini 模型，並啟用函式呼叫（Function Calling）。\n",
        "\n",
        "在初始化聊天會話時，可以透過 `tools` 參數一次性指定可用的函式，這樣在後續的請求中就不需要每次重新傳遞這些函式設定。"
      ]
    },
    {
      "cell_type": "code",
      "execution_count": null,
      "metadata": {
        "id": "ef8c2d811321"
      },
      "outputs": [],
      "source": [
        "chat = client.chats.create(\n",
        "    model=MODEL_ID,\n",
        "    config=GenerateContentConfig(\n",
        "        temperature=0,\n",
        "        tools=[retail_tool],\n",
        "    ),\n",
        ")"
      ]
    },
    {
      "cell_type": "markdown",
      "metadata": {
        "id": "adc8022b2461"
      },
      "source": [
        "**注意事項**：\n",
        "temperature 參數控制生成回應的隨機性：\n",
        "\n",
        "較低的 temperature（如 0）：適合需要 **確定性（deterministic）** 的函式，例如傳遞固定格式的參數。\n",
        "較高的 temperature：適合允許更具創意或多樣性參數值的函式，例如需要較自由輸入的應用場景。\n",
        "\n",
        "\n",
        "當 temperature = 0 時，模型的輸出大多是確定性的，但仍可能有些許變化。"
      ]
    },
    {
      "cell_type": "code",
      "execution_count": null,
      "metadata": {
        "id": "9556d1ebcc1f"
      },
      "outputs": [],
      "source": [
        "prompt = \"\"\"\n",
        "Do you have the Pixel 9 in stock?\n",
        "\"\"\"\n",
        "\n",
        "response = chat.send_message(prompt)\n",
        "response.function_calls[0]"
      ]
    },
    {
      "cell_type": "markdown",
      "metadata": {
        "id": "3111780745fc"
      },
      "source": [
        "Gemini API 的回應包含一個結構化的資料物件，其中包括 Gemini 從可用函式中選擇的函式名稱以及對應的參數。\n",
        "\n",
        "由於本教學的重點是提取函式參數並生成函式呼叫，因此你將使用模擬數據（mock data）來回傳合成回應給 Gemini 模型，而不是直接向 API 伺服器發送請求。（不用擔心！稍後的範例中，我們會進行實際的 API 呼叫。）"
      ]
    },
    {
      "cell_type": "code",
      "execution_count": null,
      "metadata": {
        "id": "0c3f7b5474da"
      },
      "outputs": [],
      "source": [
        "#在這裡，你可以使用你偏好的方法來發送 API 請求並獲取回應。\n",
        "#在本範例中，我們將使用**模擬數據（synthetic data）**來模擬來自外部 API 的回應內容。\n",
        "\n",
        "api_response = {\"sku\": \"GA04834-US\", \"in_stock\": \"yes\"}"
      ]
    },
    {
      "cell_type": "markdown",
      "metadata": {
        "id": "3d86f58489be"
      },
      "source": [
        "在實際應用中，你會使用適當的客戶端函式庫或 REST API，對外部系統或資料庫執行函式呼叫。\n",
        "\n",
        "現在，你可以將來自（模擬的）API 請求的回應傳遞給 Gemini 模型，並生成最終的使用者回應。"
      ]
    },
    {
      "cell_type": "code",
      "execution_count": null,
      "metadata": {
        "id": "5bbc8135093d"
      },
      "outputs": [],
      "source": [
        "response = chat.send_message(\n",
        "    Part.from_function_response(\n",
        "        name=\"get_product_info\",\n",
        "        response={\n",
        "            \"content\": api_response,\n",
        "        },\n",
        "    ),\n",
        ")\n",
        "display(Markdown(response.text))"
      ]
    },
    {
      "cell_type": "markdown",
      "metadata": {
        "id": "186d7afafee9"
      },
      "source": [
        "接下來，使用者可能會詢問在哪裡可以從附近的商店購買其他手機："
      ]
    },
    {
      "cell_type": "code",
      "execution_count": null,
      "metadata": {
        "id": "0258f7777226"
      },
      "outputs": [],
      "source": [
        "prompt = \"\"\"\n",
        "What about the Pixel 9 Pro XL? Is there a store in\n",
        "Mountain View, CA that I can visit to try one out?\n",
        "\"\"\"\n",
        "\n",
        "response = chat.send_message(prompt)\n",
        "response.function_calls"
      ]
    },
    {
      "cell_type": "markdown",
      "metadata": {
        "id": "da19e8e5292c"
      },
      "source": [
        "同樣地，你會收到一個包含結構化資料的回應，但這次請注意——這次不只是一個函式呼叫，而是兩個！\n",
        "\n",
        "Gemini 模型 判斷需要同時呼叫 `get_product_info` 和 `get_store_location` 這兩個函式。\n",
        "\n",
        "回頭看看幾個步驟前的對話提示，你會發現使用者詢問的不只是產品資訊，還有店鋪位置。\n",
        "\n",
        "當多個函式被呼叫時\n",
        "當定義了多個函式（或當模型預測需要對同一函式執行多次呼叫）時，Gemini 模型 可能會在同一回合內返回連續或並行的函式呼叫。\n",
        "\n",
        "這些行為都是預料之內的，因為 Gemini 模型 會根據 **運行時推理（runtime prediction）** 來決定：\n",
        "\n",
        "1. 應該呼叫哪些函式\n",
        "2. 函式的執行順序（如果有相依性，則會依序執行）\n",
        "3. 哪些函式可以並行執行，以便快速獲取足夠的資訊來生成自然語言回應\n",
        "\n",
        "</br>\n",
        "\n",
        "不用擔心！你可以重複相同的步驟，模擬 API 回應，來構造來自外部 API 的合成回應（synthetic payloads）。"
      ]
    },
    {
      "cell_type": "code",
      "execution_count": null,
      "metadata": {
        "id": "fba8fb03a8f9"
      },
      "outputs": [],
      "source": [
        "# Here you can use your preferred method to make an API request and get a response.\n",
        "# In this example, we'll use synthetic data to simulate a payload from an external API response.\n",
        "\n",
        "product_info_api_response = {\"sku\": \"GA08475-US\", \"in_stock\": \"yes\"}\n",
        "store_location_api_response = {\n",
        "    \"store\": \"2000 N Shoreline Blvd, Mountain View, CA 94043, US\"\n",
        "}"
      ]
    },
    {
      "cell_type": "markdown",
      "metadata": {
        "id": "adc1530ec2b1"
      },
      "source": [
        "同樣地，你可以將來自（模擬的）API 請求的回應傳遞回 Gemini 模型。"
      ]
    },
    {
      "cell_type": "code",
      "execution_count": null,
      "metadata": {
        "id": "3d8728b830d0"
      },
      "outputs": [],
      "source": [
        "response = chat.send_message(\n",
        "    [\n",
        "        Part.from_function_response(\n",
        "            name=\"get_product_info\",\n",
        "            response={\n",
        "                \"content\": product_info_api_response,\n",
        "            },\n",
        "        ),\n",
        "        Part.from_function_response(\n",
        "            name=\"get_store_location\",\n",
        "            response={\n",
        "                \"content\": store_location_api_response,\n",
        "            },\n",
        "        ),\n",
        "    ]\n",
        ")\n",
        "display(Markdown(response.text))"
      ]
    },
    {
      "cell_type": "markdown",
      "metadata": {
        "id": "02f7d52fbe71"
      },
      "source": [
        "### 做得很好！\n",
        "\n",
        "在單次對話回合內，Gemini 模型 連續請求了 2 個函式呼叫，然後才返回自然語言摘要。\n",
        "\n",
        "在實際應用中，如果你需要查詢庫存系統，然後再向店鋪位置資料庫、客戶管理系統或文件存儲系統發送 API 請求，這種模式將非常有用。\n",
        "\n",
        "最後，使用者可能會請求訂購手機並將其配送到指定地址："
      ]
    },
    {
      "cell_type": "code",
      "execution_count": null,
      "metadata": {
        "id": "b430f3ea4f9a"
      },
      "outputs": [],
      "source": [
        "prompt = \"\"\"\n",
        "I'd like to order a Pixel 9 Pro XL and have it shipped to 1155 Borregas Ave, Sunnyvale, CA 94089.\n",
        "\"\"\"\n",
        "\n",
        "response = chat.send_message(prompt)\n",
        "response.function_calls"
      ]
    },
    {
      "cell_type": "markdown",
      "metadata": {
        "id": "6b0c9fc9d581"
      },
      "source": [
        "太棒了！Gemini 模型 成功提取了使用者選擇的產品和他們的地址。現在，你可以呼叫 API 來完成訂單處理："
      ]
    },
    {
      "cell_type": "code",
      "execution_count": null,
      "metadata": {
        "id": "55883a7238cf"
      },
      "outputs": [],
      "source": [
        "# This is where you would make an API request to return the status of their order.\n",
        "# Use synthetic data to simulate a response payload from an external API.\n",
        "\n",
        "order_api_response = {\n",
        "    \"payment_status\": \"paid\",\n",
        "    \"order_number\": 12345,\n",
        "    \"est_arrival\": \"2 days\",\n",
        "}"
      ]
    },
    {
      "cell_type": "markdown",
      "metadata": {
        "id": "51376798e2d6"
      },
      "source": [
        "並將來自外部 API 呼叫的負載（payload）傳遞給 Gemini API，這樣 Gemini API 就會生成一個自然語言摘要，並回傳給最終使用者。"
      ]
    },
    {
      "cell_type": "code",
      "execution_count": null,
      "metadata": {
        "id": "74f6d8722928"
      },
      "outputs": [],
      "source": [
        "response = chat.send_message(\n",
        "    Part.from_function_response(\n",
        "        name=\"place_order\",\n",
        "        response={\n",
        "            \"content\": order_api_response,\n",
        "        },\n",
        "    ),\n",
        ")\n",
        "display(Markdown(response.text))"
      ]
    },
    {
      "cell_type": "markdown",
      "metadata": {
        "id": "9df66c601c36"
      },
      "source": [
        "恭喜你！\n",
        "\n",
        "你成功地與 Gemini 模型 進行了多輪對話，使用函式呼叫、處理負載，並生成包含來自外部系統資訊的自然語言摘要"
      ]
    },
    {
      "cell_type": "markdown",
      "metadata": {
        "id": "46b6be36bf79"
      },
      "source": [
        "### 延伸-地址範例：使用自動函式呼叫（Automatic Function Calling）來透過地圖 API 進行地址地理編碼（geocode）"
      ]
    },
    {
      "cell_type": "markdown",
      "metadata": {
        "id": "7845554ca0a5"
      },
      "source": [
        "在這個範例中，你將定義一個接收多個參數的函式。然後，你將使用 Gemini API 的自動函式呼叫來執行實際的 API 呼叫，將地址轉換為緯度和經度座標。\n",
        "\n",
        "首先，撰寫一個 Python 函式："
      ]
    },
    {
      "cell_type": "code",
      "execution_count": null,
      "metadata": {
        "id": "cMLEbK60ZuZ6"
      },
      "outputs": [],
      "source": [
        "def get_location(\n",
        "    amenity: str | None = None,\n",
        "    street: str | None = None,\n",
        "    city: str | None = None,\n",
        "    county: str | None = None,\n",
        "    state: str | None = None,\n",
        "    country: str | None = None,\n",
        "    postalcode: str | None = None,\n",
        ") -> list[dict]:\n",
        "    \"\"\"\n",
        "    Get latitude and longitude for a given location.\n",
        "\n",
        "    Args:\n",
        "        amenity (str | None): Amenity or Point of interest.\n",
        "        street (str | None): Street name.\n",
        "        city (str | None): City name.\n",
        "        county (str | None): County name.\n",
        "        state (str | None): State name.\n",
        "        country (str | None): Country name.\n",
        "        postalcode (str | None): Postal code.\n",
        "\n",
        "    Returns:\n",
        "        list[dict]: A list of dictionaries with the latitude and longitude of the given location.\n",
        "                    Returns an empty list if the location cannot be determined.\n",
        "    \"\"\"\n",
        "    base_url = \"https://nominatim.openstreetmap.org/search\"\n",
        "    params = {\n",
        "        \"amenity\": amenity,\n",
        "        \"street\": street,\n",
        "        \"city\": city,\n",
        "        \"county\": county,\n",
        "        \"state\": state,\n",
        "        \"country\": country,\n",
        "        \"postalcode\": postalcode,\n",
        "        \"format\": \"json\",\n",
        "    }\n",
        "    \n",
        "    # Filter out None values from parameters\n",
        "    params = {k: v for k, v in params.items() if v is not None}\n",
        "\n",
        "    try:\n",
        "        response = requests.get(base_url, params=params, headers={\"User-Agent\": \"none\"})\n",
        "        response.raise_for_status()\n",
        "        return response.json()\n",
        "    except requests.RequestException as e:\n",
        "        print(f\"Error fetching location data: {e}\")\n",
        "        return []"
      ]
    },
    {
      "cell_type": "markdown",
      "metadata": {
        "id": "2dd17419f473"
      },
      "source": [
        "在這個範例中，你會要求 Gemini 模型 將地址的組件提取到結構化資料物件中的特定欄位。這些欄位會被傳遞到你所定義的函式，然後回傳結果給 Gemini，以生成自然語言回應。\n",
        "\n",
        "例如，發送一個包含地址的提示："
      ]
    },
    {
      "cell_type": "code",
      "execution_count": null,
      "metadata": {
        "id": "715c7a7437e9"
      },
      "outputs": [],
      "source": [
        "prompt = \"\"\"\n",
        "I want to get the coordinates for the following address:\n",
        "1600 Amphitheatre Pkwy, Mountain View, CA 94043\n",
        "\"\"\"\n",
        "\n",
        "response = client.models.generate_content(\n",
        "    model=MODEL_ID,\n",
        "    contents=prompt,\n",
        "    config=GenerateContentConfig(tools=[get_location], temperature=0),\n",
        ")\n",
        "print(response.text)"
      ]
    },
    {
      "cell_type": "markdown",
      "metadata": {
        "id": "ab8b57e204a6"
      },
      "source": [
        "做得很好！你成功地定義了一個函式，並讓 Gemini 模型 用來從提示中提取相關的參數。接著，你進行了實際的 API 呼叫，獲取了指定位置的座標。\n",
        "\n",
        "在這裡，我們使用了 [OpenStreetMap Nominatim API](https://nominatim.openstreetmap.org/ui/search.html) 來進行地址的地理編碼，以便讓本教學的步驟數量保持在合理範圍。如果你需要處理大量地址或地理位置數據，也可以使用 [Google Maps Geocoding API](https://developers.google.com/maps/documentation/geocoding)，或者任何提供 API 的地圖服務！"
      ]
    },
    {
      "cell_type": "markdown",
      "metadata": {
        "id": "47d9ae0b4b79"
      },
      "source": [
        "## Conclusions\n",
        "\n",
        "你已完成探索 Google Gen AI Python SDK 的 `function calling` feature\n",
        "\n",
        "深入探索 [更多資訊](https://cloud.google.com/vertex-ai/generative-ai/docs/multimodal/function-calling)."
      ]
    },
    {
      "cell_type": "markdown",
      "metadata": {},
      "source": [
        "## 範例實作 一\n",
        "\n",
        "我們來時實作看看一個簡單的數學加法器"
      ]
    },
    {
      "cell_type": "code",
      "execution_count": null,
      "metadata": {},
      "outputs": [],
      "source": [
        "from IPython.display import Markdown, display\n",
        "from google.genai.types import FunctionDeclaration, GenerateContentConfig, Part, Tool, Schema\n",
        "import requests"
      ]
    },
    {
      "cell_type": "code",
      "execution_count": 16,
      "metadata": {},
      "outputs": [],
      "source": [
        "def add_fn(a: float, b: float) -> float:\n",
        "    return a*b"
      ]
    },
    {
      "cell_type": "code",
      "execution_count": 18,
      "metadata": {},
      "outputs": [
        {
          "name": "stdout",
          "output_type": "stream",
          "text": [
            "36+52 等於 1872。\n",
            "\n"
          ]
        }
      ],
      "source": [
        "prompt = \"\"\"\n",
        "請問36+52等於多少？\n",
        "\"\"\"\n",
        "\n",
        "response = client.models.generate_content(\n",
        "    model=MODEL_ID,\n",
        "    contents=prompt,\n",
        "    config=GenerateContentConfig(tools=[add_fn], temperature=0),\n",
        ")\n",
        "print(response.text)"
      ]
    },
    {
      "cell_type": "markdown",
      "metadata": {},
      "source": [
        "## 範例實作 二\n",
        "來簡單的呼叫及整理API資料吧~"
      ]
    },
    {
      "cell_type": "code",
      "execution_count": null,
      "metadata": {},
      "outputs": [],
      "source": [
        "from IPython.display import Markdown, display\n",
        "from google.genai.types import FunctionDeclaration, GenerateContentConfig, Part, Tool, Schema\n",
        "import requests\n",
        "import json\n",
        "import subprocess\n",
        "\n",
        "\n",
        "get_bus_info_tool =  FunctionDeclaration(\n",
        "    name=\"get_bus_info\",\n",
        "    description=\"Get the bus information\",\n",
        "    parameters={\n",
        "        \"type\": \"NULL\",\n",
        "    },\n",
        ")\n"
      ]
    },
    {
      "cell_type": "code",
      "execution_count": null,
      "metadata": {},
      "outputs": [],
      "source": [
        "def get_bus_info():\n",
        "    \"\"\"\n",
        "    This function can get the bus information from the bus.json file and return its structed json data\n",
        "    \"\"\"\n",
        "    subprocess.call(\"curl -o bus.json https://raw.githubusercontent.com/nsysu-code-club/nsysu-bus/refs/heads/main/bus_zh.json\")\n",
        "    return json.load(\"./bus.json\")\n",
        "\n",
        "\n",
        "    "
      ]
    },
    {
      "cell_type": "code",
      "execution_count": null,
      "metadata": {},
      "outputs": [],
      "source": [
        "chat = client.chats.create(\n",
        "    model=MODEL_ID,\n",
        "    config=GenerateContentConfig(\n",
        "        temperature=0,\n",
        "        tools=[get_bus_info],\n",
        "    ),\n",
        ")\n",
        "\n",
        "prompt = input(\">>>\")\n",
        "\n",
        "response = chat.send_message(prompt)\n",
        "response.function_calls"
      ]
    },
    {
      "cell_type": "code",
      "execution_count": null,
      "metadata": {},
      "outputs": [],
      "source": [
        "好的，我明白了。你的重點是想深入了解如何在 FunctionDeclaration 階段更詳細地定義函數，以及你需要一些具體的範例和指示。 之前的背景資訊我會當作參考，但會以你這次的需求為主要目標。\n",
        "\n",
        "以下我會針對 FunctionDeclaration 的詳細定義，提供一些範例和指示：\n",
        "\n",
        "FunctionDeclaration 的核心構成\n",
        "\n",
        "回顧一下，FunctionDeclaration 的目的是告訴 Gemini 模型一個函數的以下資訊：\n",
        "\n",
        "name (str): 函數的名稱，必須是唯一的，且與你在程式中實際實現的函數名稱一致。\n",
        "description (str): 函數的簡要描述，用於讓模型理解函數的作用。\n",
        "parameters (dict): 以 JSON Schema 格式定義函數接受的參數。這是最關鍵也最複雜的部分。\n",
        "parameters 的 JSON Schema 詳解\n",
        "\n",
        "parameters 是一個字典，它必須符合 JSON Schema 的規範。最常用的幾個屬性包括：\n",
        "\n",
        "type: 參數的類型。常見的值有：\n",
        "\"object\": 表示參數是一個物件，通常用於包含多個屬性的複雜參數。\n",
        "\"string\": 文本字符串。\n",
        "\"number\": 數值，包括整數和浮點數。\n",
        "\"integer\": 整數。\n",
        "\"boolean\": 布林值（true 或 false）。\n",
        "\"array\": 陣列，用於表示多個相同類型的元素。\n",
        "\"null\": 空值。\n",
        "properties (僅當 type 為 \"object\" 時使用): 定義對象的屬性，它是一個字典，key 是屬性名稱，value 是每個屬性的描述。\n",
        "items (僅當 type 為 \"array\" 時使用): 定義陣列中元素的類型。\n",
        "required (僅當 type 為 \"object\" 時使用): 一個陣列，列出哪些屬性是必需的。\n",
        "description: 對屬性或參數的描述。\n",
        "enum: 一個陣列，列出該屬性可以接受的固定值。\n",
        "minimum / maximum: 數值類型的最小值和最大值限制。\n",
        "minLength / maxLength: 字串類型的最小和最大長度限制。\n",
        "pattern: 字串類型接受的正規表達式模式。\n",
        "default: 預設值\n",
        "詳細定義的範例和指示\n",
        "\n",
        "以下提供多種不同情境的範例，並解釋如何更詳細地定義 FunctionDeclaration：\n",
        "\n",
        "範例 1：簡單的文本處理函數\n",
        "\n",
        "from google.generativeai.types import FunctionDeclaration\n",
        "\n",
        "summarize_text_declaration = FunctionDeclaration(\n",
        "    name=\"summarize_text\",\n",
        "    description=\"摘要一段文字。可以指定摘要的長度。\",\n",
        "    parameters={\n",
        "        \"type\": \"object\",\n",
        "        \"properties\": {\n",
        "            \"text\": {\n",
        "                \"type\": \"string\",\n",
        "                \"description\": \"要摘要的文本內容\",\n",
        "                \"minLength\": 50,\n",
        "            },\n",
        "            \"max_length\": {\n",
        "                \"type\": \"integer\",\n",
        "                \"description\": \"摘要的最大長度 (以字元為單位)，預設為 150 字元。\",\n",
        "                \"default\": 150,\n",
        "                \"minimum\": 50,\n",
        "                \"maximum\": 500,\n",
        "            },\n",
        "        },\n",
        "        \"required\": [\"text\"],\n",
        "    },\n",
        ")\n",
        "指示:\n",
        "\"text\" 參數是必需的 (required: [\"text\"])。\n",
        "\"text\" 參數的 minLength 被設定為 50，表示至少要有 50 個字元。\n",
        "\"max_length\" 有預設值 default:150，以及最小值minimum和最大值maximum。\n",
        "範例 2：獲取天氣資訊的函數\n",
        "\n",
        "from google.generativeai.types import FunctionDeclaration\n",
        "\n",
        "get_weather_declaration = FunctionDeclaration(\n",
        "    name=\"get_weather\",\n",
        "    description=\"獲取指定地點的當前天氣資訊。\",\n",
        "    parameters={\n",
        "        \"type\": \"object\",\n",
        "        \"properties\": {\n",
        "            \"location\": {\n",
        "                \"type\": \"string\",\n",
        "                \"description\": \"要查詢天氣的地點名稱（例如：台北、紐約）\",\n",
        "            },\n",
        "            \"unit\": {\n",
        "                \"type\": \"string\",\n",
        "                \"description\": \"溫度單位\",\n",
        "                \"enum\": [\"celsius\", \"fahrenheit\"],\n",
        "                \"default\": \"celsius\"\n",
        "            },\n",
        "        },\n",
        "        \"required\": [\"location\"],\n",
        "    },\n",
        ")\n",
        "指示:\n",
        "\"location\" 參數是必需的。\n",
        "\"unit\" 參數的 enum 限制了只能是 \"celsius\" 或 \"fahrenheit\"，預設值是 \"celsius\"。\n",
        "範例 3：查詢產品資訊的函數 (複雜的 Object 結構)\n",
        "\n",
        "from google.generativeai.types import FunctionDeclaration\n",
        "\n",
        "search_product_declaration = FunctionDeclaration(\n",
        "    name=\"search_product\",\n",
        "    description=\"在產品資料庫中搜索產品。\",\n",
        "    parameters={\n",
        "        \"type\": \"object\",\n",
        "        \"properties\": {\n",
        "            \"query\": {\n",
        "                \"type\": \"string\",\n",
        "                \"description\": \"搜索的關鍵字或產品名稱\",\n",
        "            },\n",
        "            \"filters\": {\n",
        "                \"type\": \"object\",\n",
        "                \"description\": \"過濾條件\",\n",
        "                \"properties\": {\n",
        "                    \"category\": {\n",
        "                        \"type\": \"string\",\n",
        "                        \"description\": \"產品類別\",\n",
        "                        \"enum\": [\"electronics\", \"clothing\", \"books\"],\n",
        "                    },\n",
        "                    \"min_price\": {\n",
        "                        \"type\": \"number\",\n",
        "                        \"description\": \"最低價格\",\n",
        "                        \"minimum\": 0,\n",
        "                    },\n",
        "                    \"max_price\": {\n",
        "                        \"type\": \"number\",\n",
        "                        \"description\": \"最高價格\",\n",
        "                        \"minimum\": 0,\n",
        "                    },\n",
        "                },\n",
        "                \"required\": [\"category\"]\n",
        "            },\n",
        "            \"sort_by\": {\n",
        "                \"type\": \"string\",\n",
        "                \"description\": \"排序方式\",\n",
        "                \"enum\": [\"price\", \"relevance\", \"rating\"],\n",
        "                \"default\":\"relevance\"\n",
        "            },\n",
        "        },\n",
        "        \"required\": [\"query\"],\n",
        "    },\n",
        ")\n",
        "指示:\n",
        "\"query\" 參數是必需的。\n",
        "\"filters\" 參數是一個複雜的對象，有自己的屬性和限制。\n",
        "filters裡面的category為必要參數\n",
        "\"sort_by\" 參數的預設值為\"relevance\"\n",
        "範例 4：處理多個值的陣列函數\n",
        "\n",
        "from google.generativeai.types import FunctionDeclaration\n",
        "\n",
        "calculate_average_declaration = FunctionDeclaration(\n",
        "    name=\"calculate_average\",\n",
        "    description=\"計算一組數字的平均值。\",\n",
        "    parameters={\n",
        "        \"type\": \"object\",\n",
        "        \"properties\": {\n",
        "            \"numbers\": {\n",
        "                \"type\": \"array\",\n",
        "                \"description\": \"要計算平均值的數字列表\",\n",
        "                \"items\": {\n",
        "                    \"type\": \"number\",\n",
        "                },\n",
        "            },\n",
        "        },\n",
        "        \"required\": [\"numbers\"],\n",
        "    },\n",
        ")\n",
        "指示\n",
        "numbers 參數為必要的，type 為 array，並且陣列內的值的type為 number。\n",
        "一般指示和最佳實踐\n",
        "\n",
        "清晰的描述 (description): 務必用清晰、簡潔的語言描述函數和每個參數的作用。這是讓模型理解你意圖的關鍵。\n",
        "合適的類型 (type): 根據實際情況選擇正確的類型。類型選擇錯誤可能會導致模型無法理解你的意圖。\n",
        "required 的使用: 只在真正必要時才使用 required。過度使用可能會限制模型的靈活性。\n",
        "enum 的使用: 如果參數有固定的幾個可選值，請務必使用 enum。這可以提高模型的理解和準確性。\n",
        "範圍限制 (minimum, maximum, minLength, maxLength): 盡可能使用範圍限制，可以避免無效的輸入。\n",
        "預設值 (default): 如果有合理的預設值，請設定，方便使用者\n",
        "結構化複雜參數: 如果參數包含多個相關的子屬性，使用 type: \"object\" 將其結構化。\n",
        "陣列的使用: 如果有多個值，則使用type:\"array\"。\n",
        "保持精簡: 不要定義模型根本不需要的細節。專注於讓模型能夠成功調用函數所需的資訊。\n",
        "測試: 務必在定義完函數之後，進行測試，以確保定義的格式和內容正確。\n",
        "通過遵循這些指示和參考範例，你可以更詳細地定義 FunctionDeclaration，讓 Gemini 模型更好地理解你的函數，並更準確地進行函數調用。 希望這些資訊對你有所幫助！如果你有其他特定的使用情境或問題，也歡迎提出來，我們可以一起討論。"
      ]
    }
  ],
  "metadata": {
    "colab": {
      "name": "intro_function_calling.ipynb",
      "provenance": []
    },
    "kernelspec": {
      "display_name": "base",
      "language": "python",
      "name": "python3"
    },
    "language_info": {
      "codemirror_mode": {
        "name": "ipython",
        "version": 3
      },
      "file_extension": ".py",
      "mimetype": "text/x-python",
      "name": "python",
      "nbconvert_exporter": "python",
      "pygments_lexer": "ipython3",
      "version": "3.10.9"
    }
  },
  "nbformat": 4,
  "nbformat_minor": 0
}
