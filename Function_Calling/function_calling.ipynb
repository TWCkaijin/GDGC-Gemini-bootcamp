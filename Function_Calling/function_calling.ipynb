{
  "cells": [
    {
      "cell_type": "code",
      "execution_count": null,
      "metadata": {
        "id": "ijGzTHJJUCPY"
      },
      "outputs": [],
      "source": [
        "# Copyright 2024 Google LLC\n",
        "#\n",
        "# Licensed under the Apache License, Version 2.0 (the \"License\");\n",
        "# you may not use this file except in compliance with the License.\n",
        "# You may obtain a copy of the License at\n",
        "#\n",
        "#     https://www.apache.org/licenses/LICENSE-2.0\n",
        "#\n",
        "# Unless required by applicable law or agreed to in writing, software\n",
        "# distributed under the License is distributed on an \"AS IS\" BASIS,\n",
        "# WITHOUT WARRANTIES OR CONDITIONS OF ANY KIND, either express or implied.\n",
        "# See the License for the specific language governing permissions and\n",
        "# limitations under the License.\n",
        "# \"https://colab.research.google.com/github/TWCkaijin/GDGC-Gemini-bootcamp/blob/main/function_calling.ipynb\""
      ]
    },
    {
      "cell_type": "markdown",
      "metadata": {
        "id": "VEqbX8OhE8y9"
      },
      "source": [
        "# Function Calling 與 Gemini API & Python SDK 介紹\n",
        "\n",
        "<table align=\"left\">\n",
        "  <td style=\"text-align: center\">\n",
        "    <a href=\"https://colab.research.google.com/github/TWCkaijin/GDGC-Gemini-bootcamp/blob/main/function_calling/function_calling.ipynb\">\n",
        "      <img width=\"32px\" src=\"https://www.gstatic.com/pantheon/images/bigquery/welcome_page/colab-logo.svg\" alt=\"Google Colaboratory logo\"><br> Open in Colab\n",
        "    </a>\n",
        "  </td>\n",
        "  <td style=\"text-align: center\">\n",
        "    <a href=\"https://console.cloud.google.com/vertex-ai/colab/import/https:%2F%2Fraw.githubusercontent.com%2FTWCkaijin%2FGDGC-Gemini-bootcamp%2Fmain%2FFunction_Calling%2ffunction_calling.ipynb\">\n",
        "      <img width=\"32px\" src=\"https://lh3.googleusercontent.com/JmcxdQi-qOpctIvWKgPtrzZdJJK-J3sWE1RsfjZNwshCFgE_9fULcNpuXYTilIR2hjwN\" alt=\"Google Cloud Colab Enterprise logo\"><br> Open in Colab Enterprise\n",
        "    </a>\n",
        "  </td>\n",
        "  \n",
        "</table>\n"
      ]
    },
    {
      "cell_type": "markdown",
      "metadata": {
        "id": "84e7e432e6ff"
      },
      "source": [
        "\n",
        "|Original Author(s) | [Kristopher Overholt](https://github.com/koverholt) [Holt Skinner](https://github.com/holtskinner) |"
      ]
    },
    {
      "cell_type": "markdown",
      "metadata": {
        "id": "CkHPv2myT2cx"
      },
      "source": [
        "概述\n",
        "YouTube 影片：AI + 你的程式碼：函式呼叫（Function Calling）\n",
        "\n",
        "<a href=\"https://www.youtube.com/watch?v=NbAGbXr4DME&list=PLIivdWyY5sqLvGdVLJZh2EMax97_T-OIB\" target=\"_blank\"> <img src=\"https://img.youtube.com/vi/NbAGbXr4DME/maxresdefault.jpg\" alt=\"AI + 你的程式碼：函式呼叫\" width=\"500\"> </a>\n",
        "\n",
        "</br>\n",
        "\n",
        "## Gemini\n",
        "Gemini 是 Google DeepMind 開發的一系列生成式 AI 模型，專為多模態（multimodal）應用場景設計。\n",
        "\n",
        "\n",
        "</br>\n",
        "\n",
        "## 從 Gemini 呼叫函式\n",
        "函式呼叫（Function Calling） 讓開發者可以在程式碼中描述一個函式，然後將該描述傳遞給語言模型進行請求。模型的回應會包含符合該描述的函式名稱以及應該使用的參數。\n",
        "\n",
        "</br>\n",
        "\n",
        "## 為什麼要使用函式呼叫？\n",
        "想像一下，如果你請某人記錄重要資訊，但沒有提供表格或任何格式指引，對方可能會寫出一篇流暢的文章，但如果你需要從中提取特定的姓名、日期或數字，將會非常費力！同樣地，若沒有函式呼叫，想要從生成式文本模型獲得一致的結構化數據會是一大挑戰。你可能得不斷要求模型輸出 JSON 格式，但結果往往不穩定且令人沮喪。\n",
        "\n",
        "這正是 Gemini 函式呼叫 的優勢所在。與其期待從自由格式的文本回應中拼湊出所需資訊，不如直接定義清楚的函式，並指定具體的參數和資料型別。這些函式定義相當於結構化的指引，能讓 Gemini 以可預測且可用的方式輸出結果。這樣一來，你就不需要再從文字回應中手動解析重要資訊了！\n",
        "\n",
        "可以把它想像成教 Gemini 如何與你的應用程式對話。\n",
        "需要從資料庫檢索資訊？定義一個 search_db 函式，並指定搜尋條件作為參數。\n",
        "想要與天氣 API 整合？建立一個 get_weather 函式，並讓它接收地點作為輸入。\n",
        "函式呼叫能夠橋接自然語言與結構化數據，讓 AI 更輕鬆地與外部系統互動！"
      ]
    },
    {
      "cell_type": "markdown",
      "metadata": {
        "id": "DrkcqHrrwMAo"
      },
      "source": [
        "## 任務目標\n",
        "在本教學中，你將學習如何在 Vertex AI 中使用 Gemini API，並透過 Vertex AI SDK for Python 來使用 Gemini 2.0 Flash (gemini-2.0-flash) 模型進行函式呼叫（Function Calling）。\n",
        "\n",
        "你將完成以下任務：\n",
        "\n",
        "- 安裝 _Google Gen AI SDK for Python_\n",
        "- 在 _Vertex AI_ 中使用 _Gemini API_ 與 _Gemini_ 模型互動：\n",
        "- 在聊天會話（chat session）中使用 函式呼叫，回答使用者關於 Google Store 產品的問題\n",
        "- 使用 _Function Calling_ 透過 地圖 API 進行地址地理編碼（geocoding）\n",
        "- 使用 _Function Calling_ 在 原始日誌數據（raw logging data） 中進行實體擷取（entity extraction）"
      ]
    },
    {
      "cell_type": "markdown",
      "metadata": {
        "id": "C9nEPojogw-g"
      },
      "source": [
        "付費資源\n",
        "本教學將使用 Google Cloud 中的 計費 功能：\n",
        "\n",
        "- Vertex AI\n",
        "請參閱 [Vertex AI](https://cloud.google.com/vertex-ai/pricing)價格 以了解詳細計費資訊，並使用 [費用估算](https://cloud.google.com/products/calculator/) 根據你的預計使用量估算成本。"
      ]
    },
    {
      "cell_type": "markdown",
      "metadata": {
        "id": "r11Gu7qNgx1p"
      },
      "source": [
        "## Getting Started\n"
      ]
    },
    {
      "cell_type": "markdown",
      "metadata": {
        "id": "No17Cw5hgx12"
      },
      "source": [
        "### 安裝 Google Gen AI SDK 套件\n"
      ]
    },
    {
      "cell_type": "code",
      "execution_count": 1,
      "metadata": {
        "id": "tFy3H3aPgx12"
      },
      "outputs": [
        {
          "name": "stdout",
          "output_type": "stream",
          "text": [
            "Requirement already satisfied: google-genai in /Users/chenzhanhuang/miniforge3/lib/python3.13/site-packages (1.3.0)\n",
            "Collecting google-genai\n",
            "  Using cached google_genai-1.5.0-py3-none-any.whl.metadata (29 kB)\n",
            "Requirement already satisfied: anyio<5.0.0dev,>=4.8.0 in /Users/chenzhanhuang/miniforge3/lib/python3.13/site-packages (from google-genai) (4.8.0)\n",
            "Requirement already satisfied: google-auth<3.0.0dev,>=2.14.1 in /Users/chenzhanhuang/miniforge3/lib/python3.13/site-packages (from google-genai) (2.38.0)\n",
            "Requirement already satisfied: httpx<1.0.0dev,>=0.28.1 in /Users/chenzhanhuang/miniforge3/lib/python3.13/site-packages (from google-genai) (0.28.1)\n",
            "Requirement already satisfied: pydantic<3.0.0dev,>=2.0.0 in /Users/chenzhanhuang/miniforge3/lib/python3.13/site-packages (from google-genai) (2.10.6)\n",
            "Requirement already satisfied: requests<3.0.0dev,>=2.28.1 in /Users/chenzhanhuang/miniforge3/lib/python3.13/site-packages (from google-genai) (2.32.3)\n",
            "Requirement already satisfied: websockets<15.0dev,>=13.0 in /Users/chenzhanhuang/miniforge3/lib/python3.13/site-packages (from google-genai) (14.2)\n",
            "Requirement already satisfied: typing-extensions<5.0.0dev,>=4.11.0 in /Users/chenzhanhuang/miniforge3/lib/python3.13/site-packages (from google-genai) (4.12.2)\n",
            "Requirement already satisfied: idna>=2.8 in /Users/chenzhanhuang/miniforge3/lib/python3.13/site-packages (from anyio<5.0.0dev,>=4.8.0->google-genai) (3.6)\n",
            "Requirement already satisfied: sniffio>=1.1 in /Users/chenzhanhuang/miniforge3/lib/python3.13/site-packages (from anyio<5.0.0dev,>=4.8.0->google-genai) (1.3.1)\n",
            "Requirement already satisfied: cachetools<6.0,>=2.0.0 in /Users/chenzhanhuang/miniforge3/lib/python3.13/site-packages (from google-auth<3.0.0dev,>=2.14.1->google-genai) (5.5.2)\n",
            "Requirement already satisfied: pyasn1-modules>=0.2.1 in /Users/chenzhanhuang/miniforge3/lib/python3.13/site-packages (from google-auth<3.0.0dev,>=2.14.1->google-genai) (0.4.1)\n",
            "Requirement already satisfied: rsa<5,>=3.1.4 in /Users/chenzhanhuang/miniforge3/lib/python3.13/site-packages (from google-auth<3.0.0dev,>=2.14.1->google-genai) (4.9)\n",
            "Requirement already satisfied: certifi in /Users/chenzhanhuang/miniforge3/lib/python3.13/site-packages (from httpx<1.0.0dev,>=0.28.1->google-genai) (2025.1.31)\n",
            "Requirement already satisfied: httpcore==1.* in /Users/chenzhanhuang/miniforge3/lib/python3.13/site-packages (from httpx<1.0.0dev,>=0.28.1->google-genai) (1.0.7)\n",
            "Requirement already satisfied: h11<0.15,>=0.13 in /Users/chenzhanhuang/miniforge3/lib/python3.13/site-packages (from httpcore==1.*->httpx<1.0.0dev,>=0.28.1->google-genai) (0.14.0)\n",
            "Requirement already satisfied: annotated-types>=0.6.0 in /Users/chenzhanhuang/miniforge3/lib/python3.13/site-packages (from pydantic<3.0.0dev,>=2.0.0->google-genai) (0.7.0)\n",
            "Requirement already satisfied: pydantic-core==2.27.2 in /Users/chenzhanhuang/miniforge3/lib/python3.13/site-packages (from pydantic<3.0.0dev,>=2.0.0->google-genai) (2.27.2)\n",
            "Requirement already satisfied: charset-normalizer<4,>=2 in /Users/chenzhanhuang/miniforge3/lib/python3.13/site-packages (from requests<3.0.0dev,>=2.28.1->google-genai) (3.3.2)\n",
            "Requirement already satisfied: urllib3<3,>=1.21.1 in /Users/chenzhanhuang/miniforge3/lib/python3.13/site-packages (from requests<3.0.0dev,>=2.28.1->google-genai) (2.2.1)\n",
            "Requirement already satisfied: pyasn1<0.7.0,>=0.4.6 in /Users/chenzhanhuang/miniforge3/lib/python3.13/site-packages (from pyasn1-modules>=0.2.1->google-auth<3.0.0dev,>=2.14.1->google-genai) (0.6.1)\n",
            "Using cached google_genai-1.5.0-py3-none-any.whl (142 kB)\n",
            "Installing collected packages: google-genai\n",
            "  Attempting uninstall: google-genai\n",
            "    Found existing installation: google-genai 1.3.0\n",
            "    Uninstalling google-genai-1.3.0:\n",
            "      Successfully uninstalled google-genai-1.3.0\n",
            "Successfully installed google-genai-1.5.0\n",
            "Note: you may need to restart the kernel to use updated packages.\n"
          ]
        }
      ],
      "source": [
        "%pip install --upgrade  google-genai"
      ]
    },
    {
      "cell_type": "markdown",
      "metadata": {
        "id": "R5Xep4W9lq-Z"
      },
      "source": [
        "### 重啟Colab執行個體\n",
        "\n",
        "您剛剛安裝了一個套件，為確保他正確載入，我們將重啟執行個體"
      ]
    },
    {
      "cell_type": "code",
      "execution_count": null,
      "metadata": {
        "id": "XRvKdaPDTznN"
      },
      "outputs": [],
      "source": [
        "# Restart kernel after installs so that your environment can access the new packages\n",
        "import IPython\n",
        "\n",
        "\"\"\" app = IPython.Application.instance()\n",
        "app.kernel.do_shutdown(True) \"\"\""
      ]
    },
    {
      "cell_type": "markdown",
      "metadata": {
        "id": "SbmM4z7FOBpM"
      },
      "source": [
        "<div class=\"alert alert-block alert-warning\">\n",
        "<b>⚠️ 您的執行個體將會重啟，您會在左下角看到警示訊息 ⚠️</b>\n",
        "</div>\n"
      ]
    },
    {
      "cell_type": "markdown",
      "metadata": {
        "id": "dmWOrTJ3gx13"
      },
      "source": [
        "### 驗證Colab環境 (Colab & local only)"
      ]
    },
    {
      "cell_type": "code",
      "execution_count": 2,
      "metadata": {
        "id": "NyKGtVQjgx13"
      },
      "outputs": [],
      "source": [
        "import sys\n",
        "\n",
        "if \"google.colab\" in sys.modules:\n",
        "    from google.colab import auth\n",
        "\n",
        "    auth.authenticate_user()\n",
        "else: \n",
        "    try: \n",
        "        from google.oauth2.service_account import Credentials\n",
        "        SERVICE_ACCOUNT_FILE = 'secret.json'  # Path to your JSON file\n",
        "        SCOPES = ['https://www.googleapis.com/auth/cloud-platform']  # IMPORTANT: Add the explicit scope\n",
        "        creds = Credentials.from_service_account_file(SERVICE_ACCOUNT_FILE, scopes=SCOPES)\n",
        "    except ImportError:\n",
        "        print('If you are running this in a colab enterprise, please ignore this message.')\n",
        "        print(\"Import error, please install the google-auth library check if you secret file are in the correct path\")\n"
      ]
    },
    {
      "cell_type": "markdown",
      "metadata": {
        "id": "DF4l8DTdWgPY"
      },
      "source": [
        "### 設定 Google Cloud Platform 專案\n",
        "\n",
        "\n",
        "要開始使用 Vertex AI，你需要擁有一個 現有的 Google Cloud 專案，並[啟用 Vertex AI API](https://console.cloud.google.com/flows/enableapi?apiid=aiplatform.googleapis.com)。\n",
        "\n",
        "你可以參考[設定專案與開發環境](https://cloud.google.com/vertex-ai/docs/start/cloud-environment)來了解更多詳細資訊。"
      ]
    },
    {
      "cell_type": "code",
      "execution_count": 3,
      "metadata": {
        "id": "Nqwi-5ufWp_B"
      },
      "outputs": [],
      "source": [
        "import os\n",
        "\n",
        "PROJECT_ID = \"side-projcet-placeholder\"  # @param {type: \"string\", placeholder: \"[your-project-id]\", isTemplate: true}\n",
        "if not PROJECT_ID or PROJECT_ID == \"[your-project-id]\":\n",
        "    PROJECT_ID = str(os.environ.get(\"GOOGLE_CLOUD_PROJECT\"))\n",
        "\n",
        "LOCATION = os.environ.get(\"GOOGLE_CLOUD_REGION\", \"us-central1\")\n",
        "\n",
        "from google import genai\n",
        "client = genai.Client(vertexai=True, project=PROJECT_ID, location=LOCATION, credentials=creds)"
      ]
    },
    {
      "cell_type": "markdown",
      "metadata": {
        "id": "92e02c3e0375"
      },
      "source": [
        "## 範例程式碼"
      ]
    },
    {
      "cell_type": "markdown",
      "metadata": {
        "id": "5671450907ec"
      },
      "source": [
        "### 選擇模型\n",
        "\n",
        "想要了解更多關於Vertax AI 的 AI 模型 和 APIs, see [Google Models](https://cloud.google.com/vertex-ai/generative-ai/docs/learn/models#gemini-models) and [Model Garden](https://cloud.google.com/vertex-ai/generative-ai/docs/model-garden/explore-models)."
      ]
    },
    {
      "cell_type": "code",
      "execution_count": 4,
      "metadata": {
        "id": "41e499d90618"
      },
      "outputs": [],
      "source": [
        "MODEL_ID = \"gemini-2.0-flash-001\"  # @param {type: \"string\"}"
      ]
    },
    {
      "cell_type": "markdown",
      "metadata": {
        "id": "jXHfaVS66_01"
      },
      "source": [
        "### 載入套件\n"
      ]
    },
    {
      "cell_type": "code",
      "execution_count": 62,
      "metadata": {
        "id": "lslYAvw37JGQ"
      },
      "outputs": [],
      "source": [
        "from IPython.display import Markdown, display\n",
        "from google.genai.types import FunctionDeclaration, GenerateContentConfig, Part, Tool, Schema\n",
        "import requests"
      ]
    },
    {
      "cell_type": "markdown",
      "metadata": {
        "id": "28f36bd968b4"
      },
      "source": [
        "### 聊天範例：在聊天會話中使用函式呼叫回答使用者關於 Google Store 的問題\n"
      ]
    },
    {
      "cell_type": "markdown",
      "metadata": {
        "id": "2d28287bde87"
      },
      "source": [
        "在這個範例中，我們將使用 Gemini 的函式呼叫（Function Calling） 來建立一個聊天機器人，該機器人可以回答使用者關於 Google Store 產品的問題。\n",
        "\n",
        "這樣的應用可以讓 AI 透過結構化的函式呼叫，而不是單純生成自由格式的文字，來提供更準確和一致的資訊。"
      ]
    },
    {
      "cell_type": "code",
      "execution_count": 63,
      "metadata": {
        "id": "3d4ed7ccc094"
      },
      "outputs": [],
      "source": [
        "get_product_info = FunctionDeclaration(\n",
        "    name=\"get_product_info\",\n",
        "    description=\"Get the stock amount and identifier for a given product\",\n",
        "    parameters={\n",
        "        \"type\": \"OBJECT\",\n",
        "        \"properties\": {\n",
        "            \"product_name\": {\"type\": \"STRING\", \"description\": \"Product name\"}\n",
        "        },\n",
        "    },\n",
        ")\n",
        "\n",
        "get_store_location = FunctionDeclaration(\n",
        "    name=\"get_store_location\",\n",
        "    description=\"Get the location of the closest store\",\n",
        "    parameters={\n",
        "        \"type\": \"OBJECT\",\n",
        "        \"properties\": {\"location\": {\"type\": \"STRING\", \"description\": \"Location\"}},\n",
        "    },\n",
        ")\n",
        "\n",
        "place_order = FunctionDeclaration(\n",
        "    name=\"place_order\",\n",
        "    description=\"Place an order\",\n",
        "    parameters={\n",
        "        \"type\": \"OBJECT\",\n",
        "        \"properties\": {\n",
        "            \"product\": {\"type\": \"STRING\", \"description\": \"Product name\"},\n",
        "            \"address\": {\"type\": \"STRING\", \"description\": \"Shipping address\"},\n",
        "        },\n",
        "    },\n",
        ")\n",
        "    \n"
      ]
    },
    {
      "cell_type": "markdown",
      "metadata": {
        "id": "e7d7319febd8"
      },
      "source": [
        "\n",
        "請注意，函式參數需按照 [OpenAPI JSON Schema](https://spec.openapis.org/oas/v3.0.3#schemawr).\n",
        " 格式以Python 字典（dictionary） 形式指定。\n",
        "\n",
        "以下是定義工具（tool）的方法，讓 Gemini 模型 可以從 3 個函式 中進行選擇：\n"
      ]
    },
    {
      "cell_type": "code",
      "execution_count": 64,
      "metadata": {
        "id": "4b2d1900730d"
      },
      "outputs": [],
      "source": [
        "retail_tool = Tool(\n",
        "    function_declarations=[\n",
        "        get_product_info,\n",
        "        get_store_location,\n",
        "        place_order,\n",
        "    ],\n",
        ")"
      ]
    },
    {
      "cell_type": "markdown",
      "metadata": {
        "id": "2b3781f6fd83"
      },
      "source": [
        "現在，你可以在多輪對話（multi-turn chat session）中初始化 Gemini 模型，並啟用函式呼叫（Function Calling）。\n",
        "\n",
        "在初始化聊天會話時，可以透過 `tools` 參數一次性指定可用的函式，這樣在後續的請求中就不需要每次重新傳遞這些函式設定。"
      ]
    },
    {
      "cell_type": "code",
      "execution_count": 65,
      "metadata": {
        "id": "ef8c2d811321"
      },
      "outputs": [],
      "source": [
        "chat = client.chats.create(\n",
        "    model=MODEL_ID,\n",
        "    config=GenerateContentConfig(\n",
        "        temperature=0,\n",
        "        tools=[retail_tool],\n",
        "    ),\n",
        ")"
      ]
    },
    {
      "cell_type": "markdown",
      "metadata": {
        "id": "adc8022b2461"
      },
      "source": [
        "**注意事項**：\n",
        "temperature 參數控制生成回應的隨機性：\n",
        "\n",
        "較低的 temperature（如 0）：適合需要 **確定性（deterministic）** 的函式，例如傳遞固定格式的參數。\n",
        "較高的 temperature：適合允許更具創意或多樣性參數值的函式，例如需要較自由輸入的應用場景。\n",
        "\n",
        "\n",
        "當 temperature = 0 時，模型的輸出大多是確定性的，但仍可能有些許變化。"
      ]
    },
    {
      "cell_type": "code",
      "execution_count": 66,
      "metadata": {
        "id": "9556d1ebcc1f"
      },
      "outputs": [
        {
          "data": {
            "text/plain": [
              "FunctionCall(id=None, args={'product_name': 'Pixel 9'}, name='get_product_info')"
            ]
          },
          "execution_count": 66,
          "metadata": {},
          "output_type": "execute_result"
        }
      ],
      "source": [
        "prompt = \"\"\"\n",
        "Do you have the Pixel 9 in stock?\n",
        "\"\"\"\n",
        "\n",
        "response = chat.send_message(prompt)\n",
        "\n",
        "response.function_calls[0]"
      ]
    },
    {
      "cell_type": "markdown",
      "metadata": {
        "id": "3111780745fc"
      },
      "source": [
        "Gemini API 的回應包含一個結構化的資料物件，其中包括 Gemini 從可用函式中選擇的函式名稱以及對應的參數。\n",
        "\n",
        "由於本教學的重點是提取函式參數並生成函式呼叫，因此你將使用模擬數據（mock data）來回傳合成回應給 Gemini 模型，而不是直接向 API 伺服器發送請求。（不用擔心！稍後的範例中，我們會進行實際的 API 呼叫。）"
      ]
    },
    {
      "cell_type": "code",
      "execution_count": 67,
      "metadata": {
        "id": "0c3f7b5474da"
      },
      "outputs": [],
      "source": [
        "#在這裡，你可以使用你偏好的方法來發送 API 請求並獲取回應。\n",
        "#在本範例中，我們將使用**模擬數據（synthetic data）**來模擬來自外部 API 的回應內容。\n",
        "\n",
        "api_response = {\"sku\": \"GA04834-US\", \"in_stock\": \"yes\"}"
      ]
    },
    {
      "cell_type": "markdown",
      "metadata": {
        "id": "3d86f58489be"
      },
      "source": [
        "在實際應用中，你會使用適當的客戶端函式庫或 REST API，對外部系統或資料庫執行函式呼叫。\n",
        "\n",
        "現在，你可以將來自（模擬的）API 請求的回應傳遞給 Gemini 模型，並生成最終的使用者回應。"
      ]
    },
    {
      "cell_type": "code",
      "execution_count": 68,
      "metadata": {
        "id": "5bbc8135093d"
      },
      "outputs": [
        {
          "data": {
            "text/markdown": [
              "Yes, we have the Pixel 9 in stock.\n"
            ],
            "text/plain": [
              "<IPython.core.display.Markdown object>"
            ]
          },
          "metadata": {},
          "output_type": "display_data"
        }
      ],
      "source": [
        "response = chat.send_message(\n",
        "    Part.from_function_response(\n",
        "        name=\"get_product_info\",\n",
        "        response={\n",
        "            \"content\": api_response,\n",
        "        },\n",
        "    ),\n",
        ")\n",
        "display(Markdown(response.text))"
      ]
    },
    {
      "cell_type": "markdown",
      "metadata": {
        "id": "186d7afafee9"
      },
      "source": [
        "接下來，使用者可能會詢問在哪裡可以從附近的商店購買其他手機："
      ]
    },
    {
      "cell_type": "code",
      "execution_count": 69,
      "metadata": {
        "id": "0258f7777226"
      },
      "outputs": [
        {
          "data": {
            "text/plain": [
              "[FunctionCall(id=None, args={'product_name': 'Pixel 9 Pro XL'}, name='get_product_info'),\n",
              " FunctionCall(id=None, args={'location': 'Mountain View, CA'}, name='get_store_location')]"
            ]
          },
          "execution_count": 69,
          "metadata": {},
          "output_type": "execute_result"
        }
      ],
      "source": [
        "prompt = \"\"\"\n",
        "What about the Pixel 9 Pro XL? Is there a store in\n",
        "Mountain View, CA that I can visit to try one out?\n",
        "\"\"\"\n",
        "\n",
        "response = chat.send_message(prompt)\n",
        "response.function_calls"
      ]
    },
    {
      "cell_type": "markdown",
      "metadata": {
        "id": "da19e8e5292c"
      },
      "source": [
        "同樣地，你會收到一個包含結構化資料的回應，但這次請注意——這次不只是一個函式呼叫，而是兩個！\n",
        "\n",
        "Gemini 模型 判斷需要同時呼叫 `get_product_info` 和 `get_store_location` 這兩個函式。\n",
        "\n",
        "回頭看看幾個步驟前的對話提示，你會發現使用者詢問的不只是產品資訊，還有店鋪位置。\n",
        "\n",
        "當多個函式被呼叫時\n",
        "當定義了多個函式（或當模型預測需要對同一函式執行多次呼叫）時，Gemini 模型 可能會在同一回合內返回連續或並行的函式呼叫。\n",
        "\n",
        "這些行為都是預料之內的，因為 Gemini 模型 會根據 **運行時推理（runtime prediction）** 來決定：\n",
        "\n",
        "1. 應該呼叫哪些函式\n",
        "2. 函式的執行順序（如果有相依性，則會依序執行）\n",
        "3. 哪些函式可以並行執行，以便快速獲取足夠的資訊來生成自然語言回應\n",
        "\n",
        "</br>\n",
        "\n",
        "不用擔心！你可以重複相同的步驟，模擬 API 回應，來構造來自外部 API 的合成回應（synthetic payloads）。"
      ]
    },
    {
      "cell_type": "code",
      "execution_count": 70,
      "metadata": {
        "id": "fba8fb03a8f9"
      },
      "outputs": [],
      "source": [
        "# Here you can use your preferred method to make an API request and get a response.\n",
        "# In this example, we'll use synthetic data to simulate a payload from an external API response.\n",
        "\n",
        "product_info_api_response = {\"sku\": \"GA08475-US\", \"in_stock\": \"yes\"}\n",
        "store_location_api_response = {\n",
        "    \"store\": \"2000 N Shoreline Blvd, Mountain View, CA 94043, US\"\n",
        "}"
      ]
    },
    {
      "cell_type": "markdown",
      "metadata": {
        "id": "adc1530ec2b1"
      },
      "source": [
        "同樣地，你可以將來自（模擬的）API 請求的回應傳遞回 Gemini 模型。"
      ]
    },
    {
      "cell_type": "code",
      "execution_count": 71,
      "metadata": {
        "id": "3d8728b830d0"
      },
      "outputs": [
        {
          "data": {
            "text/markdown": [
              "Yes, we have the Pixel 9 Pro XL in stock. The store located at 2000 N Shoreline Blvd, Mountain View, CA 94043, US is the closest store to you.\n"
            ],
            "text/plain": [
              "<IPython.core.display.Markdown object>"
            ]
          },
          "metadata": {},
          "output_type": "display_data"
        }
      ],
      "source": [
        "response = chat.send_message(\n",
        "    [\n",
        "        Part.from_function_response(\n",
        "            name=\"get_product_info\",\n",
        "            response={\n",
        "                \"content\": product_info_api_response,\n",
        "            },\n",
        "        ),\n",
        "        Part.from_function_response(\n",
        "            name=\"get_store_location\",\n",
        "            response={\n",
        "                \"content\": store_location_api_response,\n",
        "            },\n",
        "        ),\n",
        "    ]\n",
        ")\n",
        "display(Markdown(response.text))"
      ]
    },
    {
      "cell_type": "markdown",
      "metadata": {
        "id": "02f7d52fbe71"
      },
      "source": [
        "### 做得很好！\n",
        "\n",
        "在單次對話回合內，Gemini 模型 連續請求了 2 個函式呼叫，然後才返回自然語言摘要。\n",
        "\n",
        "在實際應用中，如果你需要查詢庫存系統，然後再向店鋪位置資料庫、客戶管理系統或文件存儲系統發送 API 請求，這種模式將非常有用。\n",
        "\n",
        "最後，使用者可能會請求訂購手機並將其配送到指定地址："
      ]
    },
    {
      "cell_type": "code",
      "execution_count": 72,
      "metadata": {
        "id": "b430f3ea4f9a"
      },
      "outputs": [
        {
          "data": {
            "text/plain": [
              "[FunctionCall(id=None, args={'address': '1155 Borregas Ave, Sunnyvale, CA 94089', 'product': 'Pixel 9 Pro XL'}, name='place_order')]"
            ]
          },
          "execution_count": 72,
          "metadata": {},
          "output_type": "execute_result"
        }
      ],
      "source": [
        "prompt = \"\"\"\n",
        "I'd like to order a Pixel 9 Pro XL and have it shipped to 1155 Borregas Ave, Sunnyvale, CA 94089.\n",
        "\"\"\"\n",
        "\n",
        "response = chat.send_message(prompt)\n",
        "response.function_calls"
      ]
    },
    {
      "cell_type": "markdown",
      "metadata": {
        "id": "6b0c9fc9d581"
      },
      "source": [
        "太棒了！Gemini 模型 成功提取了使用者選擇的產品和他們的地址。現在，你可以呼叫 API 來完成訂單處理："
      ]
    },
    {
      "cell_type": "code",
      "execution_count": 73,
      "metadata": {
        "id": "55883a7238cf"
      },
      "outputs": [],
      "source": [
        "# This is where you would make an API request to return the status of their order.\n",
        "# Use synthetic data to simulate a response payload from an external API.\n",
        "\n",
        "order_api_response = {\n",
        "    \"payment_status\": \"paid\",\n",
        "    \"order_number\": 12345,\n",
        "    \"est_arrival\": \"2 days\",\n",
        "}"
      ]
    },
    {
      "cell_type": "markdown",
      "metadata": {
        "id": "51376798e2d6"
      },
      "source": [
        "並將來自外部 API 呼叫的負載（payload）傳遞給 Gemini API，這樣 Gemini API 就會生成一個自然語言摘要，並回傳給最終使用者。"
      ]
    },
    {
      "cell_type": "code",
      "execution_count": 74,
      "metadata": {
        "id": "74f6d8722928"
      },
      "outputs": [
        {
          "data": {
            "text/markdown": [
              "OK. I've placed an order for a Pixel 9 Pro XL to be shipped to 1155 Borregas Ave, Sunnyvale, CA 94089. The order number is 12345 and it should arrive in 2 days.\n"
            ],
            "text/plain": [
              "<IPython.core.display.Markdown object>"
            ]
          },
          "metadata": {},
          "output_type": "display_data"
        }
      ],
      "source": [
        "response = chat.send_message(\n",
        "    Part.from_function_response(\n",
        "        name=\"place_order\",\n",
        "        response={\n",
        "            \"content\": order_api_response,\n",
        "        },\n",
        "    ),\n",
        ")\n",
        "display(Markdown(response.text))"
      ]
    },
    {
      "cell_type": "markdown",
      "metadata": {
        "id": "9df66c601c36"
      },
      "source": [
        "恭喜你！\n",
        "\n",
        "你成功地與 Gemini 模型 進行了多輪對話，使用函式呼叫、處理負載，並生成包含來自外部系統資訊的自然語言摘要"
      ]
    },
    {
      "cell_type": "markdown",
      "metadata": {
        "id": "46b6be36bf79"
      },
      "source": [
        "### 延伸-地址範例：使用自動函式呼叫（Automatic Function Calling）來透過地圖 API 進行地址地理編碼（geocode）"
      ]
    },
    {
      "cell_type": "markdown",
      "metadata": {
        "id": "7845554ca0a5"
      },
      "source": [
        "在這個範例中，你將定義一個接收多個參數的函式。然後，你將使用 Gemini API 的自動函式呼叫來執行實際的 API 呼叫，將地址轉換為緯度和經度座標。\n",
        "\n",
        "首先，撰寫一個 Python 函式："
      ]
    },
    {
      "cell_type": "code",
      "execution_count": 75,
      "metadata": {
        "id": "cMLEbK60ZuZ6"
      },
      "outputs": [],
      "source": [
        "def get_location(\n",
        "    amenity: str | None = None,\n",
        "    street: str | None = None,\n",
        "    city: str | None = None,\n",
        "    county: str | None = None,\n",
        "    state: str | None = None,\n",
        "    country: str | None = None,\n",
        "    postalcode: str | None = None,\n",
        ") -> list[dict]:\n",
        "    \"\"\"\n",
        "    Get latitude and longitude for a given location.\n",
        "\n",
        "    Args:\n",
        "        amenity (str | None): Amenity or Point of interest.\n",
        "        street (str | None): Street name.\n",
        "        city (str | None): City name.\n",
        "        county (str | None): County name.\n",
        "        state (str | None): State name.\n",
        "        country (str | None): Country name.\n",
        "        postalcode (str | None): Postal code.\n",
        "\n",
        "    Returns:\n",
        "        list[dict]: A list of dictionaries with the latitude and longitude of the given location.\n",
        "                    Returns an empty list if the location cannot be determined.\n",
        "    \"\"\"\n",
        "    base_url = \"https://nominatim.openstreetmap.org/search\"\n",
        "    params = {\n",
        "        \"amenity\": amenity,\n",
        "        \"street\": street,\n",
        "        \"city\": city,\n",
        "        \"county\": county,\n",
        "        \"state\": state,\n",
        "        \"country\": country,\n",
        "        \"postalcode\": postalcode,\n",
        "        \"format\": \"json\",\n",
        "    }\n",
        "    \n",
        "    # Filter out None values from parameters\n",
        "    params = {k: v for k, v in params.items() if v is not None}\n",
        "\n",
        "    try:\n",
        "        response = requests.get(base_url, params=params, headers={\"User-Agent\": \"none\"})\n",
        "        response.raise_for_status()\n",
        "        return response.json()\n",
        "    except requests.RequestException as e:\n",
        "        print(f\"Error fetching location data: {e}\")\n",
        "        return []"
      ]
    },
    {
      "cell_type": "markdown",
      "metadata": {
        "id": "2dd17419f473"
      },
      "source": [
        "在這個範例中，你會要求 Gemini 模型 將地址的組件提取到結構化資料物件中的特定欄位。這些欄位會被傳遞到你所定義的函式，然後回傳結果給 Gemini，以生成自然語言回應。\n",
        "\n",
        "例如，發送一個包含地址的提示："
      ]
    },
    {
      "cell_type": "code",
      "execution_count": 76,
      "metadata": {
        "id": "715c7a7437e9"
      },
      "outputs": [
        {
          "name": "stdout",
          "output_type": "stream",
          "text": [
            "The coordinates for 1600 Amphitheatre Pkwy, Mountain View, CA 94043 are: latitude 37.42248575, longitude -122.08558456613565.\n",
            "\n"
          ]
        }
      ],
      "source": [
        "prompt = \"\"\"\n",
        "I want to get the coordinates for the following address:\n",
        "1600 Amphitheatre Pkwy, Mountain View, CA 94043\n",
        "\"\"\"\n",
        "\n",
        "response = client.models.generate_content(\n",
        "    model=MODEL_ID,\n",
        "    contents=prompt,\n",
        "    config=GenerateContentConfig(tools=[get_location], temperature=0),\n",
        ")\n",
        "print(response.text)"
      ]
    },
    {
      "cell_type": "markdown",
      "metadata": {
        "id": "ab8b57e204a6"
      },
      "source": [
        "做得很好！你成功地定義了一個函式，並讓 Gemini 模型 用來從提示中提取相關的參數。接著，你進行了實際的 API 呼叫，獲取了指定位置的座標。\n",
        "\n",
        "在這裡，我們使用了 [OpenStreetMap Nominatim API](https://nominatim.openstreetmap.org/ui/search.html) 來進行地址的地理編碼，以便讓本教學的步驟數量保持在合理範圍。如果你需要處理大量地址或地理位置數據，也可以使用 [Google Maps Geocoding API](https://developers.google.com/maps/documentation/geocoding)，或者任何提供 API 的地圖服務！"
      ]
    },
    {
      "cell_type": "markdown",
      "metadata": {
        "id": "47d9ae0b4b79"
      },
      "source": [
        "## Conclusions\n",
        "\n",
        "你已完成探索 Google Gen AI Python SDK 的 `function calling` feature\n",
        "\n",
        "深入探索 [更多資訊](https://cloud.google.com/vertex-ai/generative-ai/docs/multimodal/function-calling)."
      ]
    },
    {
      "cell_type": "markdown",
      "metadata": {},
      "source": [
        "---\n",
        "\n",
        "## 實作 一\n",
        "\n",
        "我們現在來點簡單的實作\n",
        "\n",
        "- 定義一個加法的*function*\n",
        "- 以 *Automatic function calling* 的方式提供資料\n",
        "- 向AI提供你的prompt讓他決定要不要執行你的code!\n"
      ]
    },
    {
      "cell_type": "markdown",
      "metadata": {},
      "source": [
        "### 1. import 必需的套件"
      ]
    },
    {
      "cell_type": "code",
      "execution_count": null,
      "metadata": {},
      "outputs": [],
      "source": [
        "from google.genai.types import GenerateContentConfig\n",
        "MODEL_ID = \"gemini-2.0-flash-001\""
      ]
    },
    {
      "cell_type": "markdown",
      "metadata": {},
      "source": [
        "### 2. 定義間單的加法"
      ]
    },
    {
      "cell_type": "code",
      "execution_count": null,
      "metadata": {},
      "outputs": [],
      "source": [
        "def add_fn(a: float, b: float) -> float:\n",
        "    return a+b\n",
        "\n",
        "def subtract_fn(a: float, b: float) -> float:\n",
        "    return a-b"
      ]
    },
    {
      "cell_type": "markdown",
      "metadata": {},
      "source": [
        "### 3. 使用`generate_content`方法，給定參數(模型, 輸入, 設定(工具, 創意度))"
      ]
    },
    {
      "cell_type": "code",
      "execution_count": null,
      "metadata": {},
      "outputs": [],
      "source": [
        "prompt = \"\"\"\n",
        "請問36-52等於多少？\n",
        "\"\"\"\n",
        "\n",
        "response = client.models.generate_content(\n",
        "    model=MODEL_ID,\n",
        "    contents=prompt,\n",
        "    config=GenerateContentConfig(tools=[\"????\"], temperature=2),\n",
        ")\n",
        "print(response.text)"
      ]
    },
    {
      "cell_type": "markdown",
      "metadata": {},
      "source": [
        "## 實作 二: 高雄地區公車資訊API\n",
        "來簡單的呼叫及整理API資料吧~\n",
        "\n",
        "首先，我們先定義一些資訊\n",
        "(例如: 台灣公車公開資料API網址、其他套件等等)\n",
        "\n"
      ]
    },
    {
      "cell_type": "code",
      "execution_count": 6,
      "metadata": {},
      "outputs": [],
      "source": [
        "from IPython.display import Markdown, display\n",
        "from google.genai.types import FunctionDeclaration, GenerateContentConfig, Part, Tool, Schema\n",
        "import requests\n",
        "import random\n",
        "import time\n",
        "from pprint import pprint\n",
        "import json\n",
        "\n",
        "app_id = 'B123245005-18b880b2-9380-44b8'\n",
        "app_key = 'e55d12ce-e5d2-40e3-9adc-c7272cf46704'\n",
        "\n",
        "auth_url=\"https://tdx.transportdata.tw/auth/realms/TDXConnect/protocol/openid-connect/token\"\n",
        "url = \"https://tdx.transportdata.tw/api/basic/v2/Bus/RealTimeByFrequency/City/Kaohsiung?%24top=10&health=false&%24format=JSON\"\n",
        "\n",
        "auth_response = None\n",
        "\n",
        "class color:\n",
        "    PURPLE = '\\033[95m'\n",
        "    CYAN = '\\033[96m'\n",
        "    DARKCYAN = '\\033[36m'\n",
        "    BLUE = '\\033[94m'\n",
        "    GREEN = '\\033[92m'\n",
        "    YELLOW = '\\033[93m'\n",
        "    RED = '\\033[91m'\n",
        "    BOLD = '\\033[1m'\n",
        "    UNDERLINE = '\\033[4m'\n",
        "    END = '\\033[0m'\n"
      ]
    },
    {
      "cell_type": "markdown",
      "metadata": {},
      "source": [
        "##### 再來，定義一些關於我們要的實際操作內容\n",
        "\n",
        "1. 取得API的憑證金鑰\n",
        "2. 使用金鑰向API請求資料\n",
        "3. 取得票劵資料訊息 (模擬)\n",
        "4. 訂購票劵 (模擬)\n",
        "5. 查詢位置的GeoCode"
      ]
    },
    {
      "cell_type": "code",
      "execution_count": 7,
      "metadata": {},
      "outputs": [],
      "source": [
        "def get_auth():\n",
        "    \"\"\"\n",
        "    這段程式可以取的TDX服務帳號中的授權token，取得後將有約4小時的有效期限\n",
        "    如果還沒有授權token，將無法取得資料。\n",
        "    \"\"\"\n",
        "    try:\n",
        "        global app_id, app_key, auth_response\n",
        "        content_type = 'application/x-www-form-urlencoded'\n",
        "        grant_type = 'client_credentials'\n",
        "        header = {\n",
        "            'content-type' : content_type,\n",
        "            'grant_type' : grant_type,\n",
        "            'client_id' : app_id,\n",
        "            'client_secret' : app_key\n",
        "        }\n",
        "        auth_response = requests.post(auth_url, header)\n",
        "    except :\n",
        "        raise Exception(\"Error fetching auth data\")\n",
        "\n",
        "    \n",
        "def get_bus_info():\n",
        "\n",
        "    \"\"\"\n",
        "    這段程式可以為使用者取得高雄市的公車資訊，包含公車路線名稱、公車位置、公車狀態\n",
        "    若未持有授權token，將無法取得資料。\n",
        "    \"\"\"\n",
        "    try:\n",
        "        global app_id, app_key, auth_response\n",
        "        if auth_response is None:\n",
        "            get_auth()\n",
        "        auth_JSON = json.loads(auth_response.text)\n",
        "        access_token = auth_JSON.get('access_token')\n",
        "        header = {\n",
        "            'authorization': 'Bearer ' + access_token,\n",
        "            'Accept-Encoding': 'gzip'\n",
        "        }\n",
        "        data_response = requests.get(url, headers=header)\n",
        "        if data_response.status_code == 200:\n",
        "            return [{\"routeName\":station['RouteName'], \"currentposition\":station['BusPosition'], \"OnDuty\":station[\"DutyStatus\"]} for station in data_response.json()]\n",
        "            return data_response.json()\n",
        "        else:\n",
        "            raise Exception(\"Bus data api error\")\n",
        "    except :\n",
        "        raise Exception(\"Error fetching bus data\")\n",
        "    \n",
        "\n",
        "\n",
        "\n",
        "def get_ticket_info(location: dict, time: str) -> dict:\n",
        "    \"\"\"\n",
        "    這段程式將模擬使用者傳入[位置、時間]嘗試取得票券的情況，並回傳是否有票券的資訊\n",
        "    \"\"\"\n",
        "\n",
        "    result = random.choice([{f\"{time}\": \"yes\"}, {f\"{time}\": \"no\"}])\n",
        "    return result\n",
        "\n",
        "\n",
        "\n",
        "def reserve_ticket(location: dict, time: str) -> dict:\n",
        "    \"\"\"\n",
        "    這段程式將模擬使用者傳入[位置、時間]嘗試預約票券的情況，並回傳是否預約成功的資訊\n",
        "    \"\"\"\n",
        "    check = get_ticket_info(location, time)\n",
        "    if check[time] == \"yes\":\n",
        "        print(f\"Getting tickets\")\n",
        "        return {\"status\": \"success\", \"message\": \"Ticket reserved\"}\n",
        "    elif (check[time] == \"no\"):\n",
        "        return {\"status\": \"fail\", \"message\": \"No ticket available\"}\n",
        "    return {\"status\": \"fail\", \"message\": \"Unknown error\"}\n",
        "\n",
        "def get_location(\n",
        "    street: str | None = None,\n",
        ") -> list[dict]:\n",
        "    \n",
        "    \"\"\"\n",
        "    這段程式可以取得使用者傳入的地址(或地標)的經緯度資訊\n",
        "    \"\"\"\n",
        "    \n",
        "    base_url = \"https://nominatim.openstreetmap.org/search\"\n",
        "    params = {\n",
        "        \"street\": street,\n",
        "        \"format\": \"json\",\n",
        "    }\n",
        "    \n",
        "    # Filter out None values from parameters\n",
        "    params = {k: v for k, v in params.items() if v is not None}\n",
        "\n",
        "    try:\n",
        "        response = requests.get(base_url, params=params, headers={\"User-Agent\": \"none\"})\n",
        "        response.raise_for_status()\n",
        "        return response.json()\n",
        "    except requests.RequestException as e:\n",
        "        print(f\"Error fetching location data: {e}\")\n",
        "        return []"
      ]
    },
    {
      "cell_type": "markdown",
      "metadata": {},
      "source": [
        "#### 接著，將所有的function 定義成 Function Declaration"
      ]
    },
    {
      "cell_type": "code",
      "execution_count": 8,
      "metadata": {},
      "outputs": [],
      "source": [
        "get_auth_tool = FunctionDeclaration(\n",
        "    name=\"get_auth\",\n",
        "    description=\"Get the authentication token\",\n",
        ")\n",
        "\n",
        "get_bus_info_tool = FunctionDeclaration(\n",
        "    name=\"get_bus_info\",\n",
        "    description=\"Get the bus information\",\n",
        ")\n",
        "\n",
        "get_ticket_info_tool = FunctionDeclaration(\n",
        "    name=\"get_ticket_info\",\n",
        "    description=\"Get the ticket information\",\n",
        "    parameters={\n",
        "        \"type\": \"OBJECT\",\n",
        "        \"properties\": {\n",
        "            \"location\": {\"type\": \"OBJECT\", \"description\": \"Location\"},\n",
        "            \"time\": {\"type\": \"STRING\", \"description\": \"Time\"},\n",
        "        },\n",
        "    },\n",
        ")\n",
        "\n",
        "reserve_ticket_tool = FunctionDeclaration(\n",
        "    name=\"reserve_ticket\",\n",
        "    description=\"Reserve a ticket\",\n",
        "    parameters={\n",
        "        \"type\": \"OBJECT\",\n",
        "        \"properties\": {\n",
        "            \"location\": {\"type\": \"OBJECT\", \"description\": \"Location\"},\n",
        "            \"time\": {\"type\": \"STRING\", \"description\": \"Time\"},\n",
        "        },\n",
        "    },\n",
        ")\n",
        "\n",
        "get_location_tool = FunctionDeclaration(\n",
        "    name=\"get_location\",\n",
        "    description=\"Get the location of the given address\",\n",
        "    parameters={\n",
        "        \"type\": \"OBJECT\",\n",
        "        \"properties\": {\n",
        "            \"street\": {\"type\": \"STRING\", \"description\": \"Street name\"},\n",
        "        },\n",
        "    },\n",
        ")\n",
        "\n"
      ]
    },
    {
      "cell_type": "markdown",
      "metadata": {},
      "source": [
        "#### 然後把所有的函式本體和Function Declaration 物件包裝並載入至模型。隨後新增System instruction 至 LLM中。"
      ]
    },
    {
      "cell_type": "code",
      "execution_count": 9,
      "metadata": {},
      "outputs": [],
      "source": [
        "function_list = {\"get_bus_info\": get_bus_info, \"get_ticket_info\": get_ticket_info, \"reserve_ticket\": reserve_ticket, \"get_auth\": get_auth, \"get_location\": get_location}\n",
        "function_declaration = [get_bus_info_tool, get_ticket_info_tool, reserve_ticket_tool, get_auth_tool, get_location_tool]\n",
        "\n",
        "MODEL_ID = \"gemini-2.0-flash-001\"\n",
        "retail_tool = Tool(function_declarations=function_declaration,)\n",
        "\n",
        "chat = client.chats.create(\n",
        "    model=MODEL_ID,\n",
        "    config=GenerateContentConfig(\n",
        "        temperature=2,\n",
        "        tools=[retail_tool],\n",
        "        system_instruction=\n",
        "            \"\"\"\n",
        "                You are a helpful chatbot that can help users to get the bus information and reserve the ticket.\n",
        "                You can provide the bus information by calling the function `get_bus_info`.\n",
        "                You can provide the ticket information by calling the function `get_ticket_info`.\n",
        "                You can reserve the ticket by calling the function `reserve_ticket`.\n",
        "                You can get the location by calling the function `get_location`.\n",
        "                If you're facing auth issue or its your first time to call bus api, you should call the function `get_auth` first.\n",
        "                You should always consider to call these functions to get the information.\n",
        "                And also, you should show a user friendly message to the user, do not show the raw data to the user.\n",
        "            \"\"\"\n",
        "    )\n",
        ")"
      ]
    },
    {
      "cell_type": "markdown",
      "metadata": {},
      "source": [
        "#### 接著......讓他可以重複執行!  (還更新了可以自動糾錯的方式)"
      ]
    },
    {
      "cell_type": "code",
      "execution_count": 10,
      "metadata": {},
      "outputs": [
        {
          "name": "stdout",
          "output_type": "stream",
          "text": [
            "\u001b[92mUser: 離中山大學最近的公車什麼時候到\u001b[0m\n",
            "\u001b[96mAI: 請問您要從哪裡出發呢？我可以幫您查詢 ближайшие 公車的抵達時間。\n",
            "\u001b[0m\n",
            "\u001b[92mUser: 從中山大好\u001b[0m\n",
            "\u001b[96mAI: 您好，請問中山大是什麼地方呢？ 方便提供更詳細的地址嗎？\n",
            "\u001b[0m\n",
            "\u001b[92mUser: 大學\u001b[0m\n",
            "\u001b[96mAI: 好的，請問您要查詢哪個時間的公車呢？\n",
            "\u001b[0m\n",
            "\u001b[92mUser: 現在\u001b[0m\n",
            "Calling function: get_location\n",
            "\u001b[96mAI: 請問您指的是位於廣州市海珠區新港西路135號的中山大學(廣州校區南校園) 還是位於廣州市越秀區中山二路74號的中山大學(廣州校區北校園)呢？\n",
            "\u001b[0m\n",
            "\u001b[92mUser: 台灣的\u001b[0m\n",
            "\u001b[96mAI: 您好， 台灣沒有找到中山大學，請問有其他名稱更精確的地點嗎？\n",
            "\u001b[0m\n",
            "\u001b[92mUser: 你要不要再試一次\u001b[0m\n",
            "Calling function: get_location\n",
            "\u001b[96mAI: 還是只找到廣州的中山大學，請問你說的是國立中山大學嗎？如果是的話，我可以幫你找。\n",
            "\u001b[0m\n",
            "\u001b[92mUser: 是\u001b[0m\n",
            "Calling function: get_location\n",
            "\u001b[96mAI: 好的，請問您要查詢什麼時間的公車呢？\n",
            "\u001b[0m\n",
            "\u001b[92mUser: 現在\u001b[0m\n",
            "Calling function: get_ticket_info\n",
            "\u001b[96mAI: 好的，現在有票。請問需要為您預定嗎？\n",
            "\u001b[0m\n",
            "\u001b[92mUser: 要\u001b[0m\n",
            "Calling function: reserve_ticket\n",
            "Getting tickets\n",
            "\u001b[96mAI: 已為您預訂車票。\u001b[0m\n",
            "\u001b[92mUser: \u001b[0m\n",
            "Unexpected exception formatting exception. Falling back to standard exception\n"
          ]
        },
        {
          "name": "stderr",
          "output_type": "stream",
          "text": [
            "Traceback (most recent call last):\n",
            "  File \"/Users/chenzhanhuang/miniforge3/lib/python3.13/site-packages/IPython/core/interactiveshell.py\", line 3577, in run_code\n",
            "    exec(code_obj, self.user_global_ns, self.user_ns)\n",
            "    ~~~~^^^^^^^^^^^^^^^^^^^^^^^^^^^^^^^^^^^^^^^^^^^^^\n",
            "  File \"/var/folders/k4/nr94nkkj46zg7xmg2myl51k00000gn/T/ipykernel_27302/367986393.py\", line 9, in <module>\n",
            "    response = chat.send_message(prompt)\n",
            "  File \"/Users/chenzhanhuang/miniforge3/lib/python3.13/site-packages/google/genai/chats.py\", line 206, in send_message\n",
            "    response = self._modules.generate_content(\n",
            "        model=self._model,\n",
            "        contents=self._curated_history + [input_content],\n",
            "        config=config if config else self._config,\n",
            "    )\n",
            "  File \"/Users/chenzhanhuang/miniforge3/lib/python3.13/site-packages/google/genai/models.py\", line 5304, in generate_content\n",
            "    response = self._generate_content(\n",
            "        model=model, contents=contents, config=config\n",
            "    )\n",
            "  File \"/Users/chenzhanhuang/miniforge3/lib/python3.13/site-packages/google/genai/models.py\", line 4272, in _generate_content\n",
            "    response_dict = self._api_client.request(\n",
            "        'post', path, request_dict, http_options\n",
            "    )\n",
            "  File \"/Users/chenzhanhuang/miniforge3/lib/python3.13/site-packages/google/genai/_api_client.py\", line 575, in request\n",
            "    response = self._request(http_request, stream=False)\n",
            "  File \"/Users/chenzhanhuang/miniforge3/lib/python3.13/site-packages/google/genai/_api_client.py\", line 483, in _request\n",
            "    errors.APIError.raise_for_response(response)\n",
            "    ~~~~~~~~~~~~~~~~~~~~~~~~~~~~~~~~~~^^^^^^^^^^\n",
            "  File \"/Users/chenzhanhuang/miniforge3/lib/python3.13/site-packages/google/genai/errors.py\", line 114, in raise_for_response\n",
            "    raise ClientError(status_code, response)\n",
            "google.genai.errors.ClientError: 400 INVALID_ARGUMENT. {'error': {'code': 400, 'message': 'Unable to submit request because it has an empty text parameter. Add a value to the parameter and try again. Learn more: https://cloud.google.com/vertex-ai/generative-ai/docs/model-reference/gemini', 'status': 'INVALID_ARGUMENT'}}\n",
            "\n",
            "During handling of the above exception, another exception occurred:\n",
            "\n",
            "Traceback (most recent call last):\n",
            "  File \"/Users/chenzhanhuang/miniforge3/lib/python3.13/site-packages/IPython/core/interactiveshell.py\", line 2168, in showtraceback\n",
            "    stb = self.InteractiveTB.structured_traceback(\n",
            "        etype, value, tb, tb_offset=tb_offset\n",
            "    )\n",
            "  File \"/Users/chenzhanhuang/miniforge3/lib/python3.13/site-packages/IPython/core/ultratb.py\", line 1454, in structured_traceback\n",
            "    return FormattedTB.structured_traceback(\n",
            "           ~~~~~~~~~~~~~~~~~~~~~~~~~~~~~~~~^\n",
            "        self, etype, evalue, etb, tb_offset, number_of_lines_of_context\n",
            "        ^^^^^^^^^^^^^^^^^^^^^^^^^^^^^^^^^^^^^^^^^^^^^^^^^^^^^^^^^^^^^^^\n",
            "    )\n",
            "    ^\n",
            "  File \"/Users/chenzhanhuang/miniforge3/lib/python3.13/site-packages/IPython/core/ultratb.py\", line 1345, in structured_traceback\n",
            "    return VerboseTB.structured_traceback(\n",
            "           ~~~~~~~~~~~~~~~~~~~~~~~~~~~~~~^\n",
            "        self, etype, value, tb, tb_offset, number_of_lines_of_context\n",
            "        ^^^^^^^^^^^^^^^^^^^^^^^^^^^^^^^^^^^^^^^^^^^^^^^^^^^^^^^^^^^^^\n",
            "    )\n",
            "    ^\n",
            "  File \"/Users/chenzhanhuang/miniforge3/lib/python3.13/site-packages/IPython/core/ultratb.py\", line 1192, in structured_traceback\n",
            "    formatted_exception = self.format_exception_as_a_whole(etype, evalue, etb, number_of_lines_of_context,\n",
            "                                                           tb_offset)\n",
            "  File \"/Users/chenzhanhuang/miniforge3/lib/python3.13/site-packages/IPython/core/ultratb.py\", line 1082, in format_exception_as_a_whole\n",
            "    self.get_records(etb, number_of_lines_of_context, tb_offset) if etb else []\n",
            "    ~~~~~~~~~~~~~~~~^^^^^^^^^^^^^^^^^^^^^^^^^^^^^^^^^^^^^^^^^^^^\n",
            "  File \"/Users/chenzhanhuang/miniforge3/lib/python3.13/site-packages/IPython/core/ultratb.py\", line 1179, in get_records\n",
            "    res = list(stack_data.FrameInfo.stack_data(etb, options=options))[tb_offset:]\n",
            "          ~~~~^^^^^^^^^^^^^^^^^^^^^^^^^^^^^^^^^^^^^^^^^^^^^^^^^^^^^^^\n",
            "  File \"/Users/chenzhanhuang/miniforge3/lib/python3.13/site-packages/stack_data/core.py\", line 597, in stack_data\n",
            "    yield from collapse_repeated(\n",
            "    ...<4 lines>...\n",
            "    )\n",
            "  File \"/Users/chenzhanhuang/miniforge3/lib/python3.13/site-packages/stack_data/utils.py\", line 83, in collapse_repeated\n",
            "    yield from map(mapper, original_group)\n",
            "  File \"/Users/chenzhanhuang/miniforge3/lib/python3.13/site-packages/stack_data/core.py\", line 587, in mapper\n",
            "    return cls(f, options)\n",
            "  File \"/Users/chenzhanhuang/miniforge3/lib/python3.13/site-packages/stack_data/core.py\", line 551, in __init__\n",
            "    self.executing = Source.executing(frame_or_tb)\n",
            "                     ~~~~~~~~~~~~~~~~^^^^^^^^^^^^^\n",
            "  File \"/Users/chenzhanhuang/miniforge3/lib/python3.13/site-packages/executing/executing.py\", line 283, in executing\n",
            "    assert_(new_stmts <= stmts)\n",
            "    ~~~~~~~^^^^^^^^^^^^^^^^^^^^\n",
            "  File \"/Users/chenzhanhuang/miniforge3/lib/python3.13/site-packages/executing/executing.py\", line 80, in assert_\n",
            "    raise AssertionError(str(message))\n",
            "AssertionError\n"
          ]
        }
      ],
      "source": [
        "err = False\n",
        "while True:\n",
        "\n",
        "    if not err:\n",
        "        prompt = input()\n",
        "        if prompt == \"q\":\n",
        "            break\n",
        "        print(f\"{color.GREEN}User: {prompt}{color.END}\")\n",
        "        response = chat.send_message(prompt)\n",
        "    \n",
        "    try:\n",
        "        if response.function_calls:\n",
        "            function_call = response.function_calls[0]\n",
        "            if function_call.name in function_list:\n",
        "                print(f\"Calling function: {function_call.name}\")\n",
        "                params = function_call.args\n",
        "                result = function_list[function_call.name](**params)\n",
        "                response = chat.send_message(\n",
        "                    Part.from_function_response(\n",
        "                        name=function_call.name,\n",
        "                        response={\"content\": result},\n",
        "                    )\n",
        "                )\n",
        "        print(f\"{color.CYAN}AI: {response.text}{color.END}\")\n",
        "        err = False\n",
        "    except Exception as e:\n",
        "        err = True\n",
        "        response = chat.send_message(\n",
        "                    Part.from_function_response(\n",
        "                        name=function_call.name,\n",
        "                        response={\"content\": {\"error with doing the function\": str(e)}},\n",
        "                    )\n",
        "                )\n",
        "        print(f\"{color.CYAN}AI: {response.text}{color.END}\")\n",
        "        print(f\"{color.RED}Error: {e}{color.END}\")\n",
        "        \n",
        "    \n",
        "    time.sleep(1)"
      ]
    },
    {
      "cell_type": "raw",
      "metadata": {
        "vscode": {
          "languageId": "raw"
        }
      },
      "source": [
        "i want to know the arrival time of the bus\n",
        "我想知道離85大樓最近的公車在哪"
      ]
    },
    {
      "cell_type": "code",
      "execution_count": null,
      "metadata": {},
      "outputs": [],
      "source": [
        "get_bus_info()"
      ]
    },
    {
      "cell_type": "code",
      "execution_count": null,
      "metadata": {},
      "outputs": [],
      "source": []
    }
  ],
  "metadata": {
    "colab": {
      "name": "intro_function_calling.ipynb",
      "provenance": []
    },
    "kernelspec": {
      "display_name": "base",
      "language": "python",
      "name": "python3"
    },
    "language_info": {
      "codemirror_mode": {
        "name": "ipython",
        "version": 3
      },
      "file_extension": ".py",
      "mimetype": "text/x-python",
      "name": "python",
      "nbconvert_exporter": "python",
      "pygments_lexer": "ipython3",
      "version": "3.13.2"
    }
  },
  "nbformat": 4,
  "nbformat_minor": 0
}
