{
  "cells": [
    {
      "cell_type": "code",
      "execution_count": null,
      "metadata": {
        "id": "ijGzTHJJUCPY"
      },
      "outputs": [],
      "source": [
        "# Copyright 2024 Google LLC\n",
        "#\n",
        "# Licensed under the Apache License, Version 2.0 (the \"License\");\n",
        "# you may not use this file except in compliance with the License.\n",
        "# You may obtain a copy of the License at\n",
        "#\n",
        "#     https://www.apache.org/licenses/LICENSE-2.0\n",
        "#\n",
        "# Unless required by applicable law or agreed to in writing, software\n",
        "# distributed under the License is distributed on an \"AS IS\" BASIS,\n",
        "# WITHOUT WARRANTIES OR CONDITIONS OF ANY KIND, either express or implied.\n",
        "# See the License for the specific language governing permissions and\n",
        "# limitations under the License."
      ]
    },
    {
      "cell_type": "markdown",
      "metadata": {
        "id": "NDsTUvKjwHBW"
      },
      "source": [
        "# RAG 基本實作\n",
        "<td style=\"text-align: center\">\n",
        "  <a href=\"https://colab.research.google.com/github/TWCkaijin/GDGC-Gemini-bootcamp/blob/main/RAG_%E5%9F%BA%E6%9C%AC%E5%AF%A6%E4%BD%9C.ipynb\">\n",
        "    <img width=\"32px\" src=\"https://www.gstatic.com/pantheon/images/bigquery/welcome_page/colab-logo.svg\" alt=\"Google Colaboratory logo\"><br> Run in Colab\n",
        "  </a>\n",
        "</td>        "
      ]
    },
    {
      "cell_type": "markdown",
      "metadata": {
        "id": "BsjCZ1v9rP7s"
      },
      "source": [
        "| | |\n",
        "|-|-|\n",
        "|原作者 | [Lavi Nigam](https://github.com/lavinigam-gcp) |"
      ]
    },
    {
      "cell_type": "markdown",
      "metadata": {
        "id": "m0KqoJXJHzkT"
      },
      "source": [
        "DIY version of RAG [**building_DIY_multimodal_qa_system_with_mRAG.ipynb**](https://github.com/GoogleCloudPlatform/generative-ai/blob/main/gemini/qa-ops/building_DIY_multimodal_qa_system_with_mRAG.ipynb)"
      ]
    },
    {
      "cell_type": "markdown",
      "metadata": {
        "id": "VK1Q5ZYdVL4Y"
      },
      "source": [
        "## 概述\n",
        "檢索增強生成（Retrieval Augmented Generation, RAG）已成為讓大型語言模型（LLMs）存取外部數據的重要範式，同時也作為一種機制，能有效減少幻覺現象（hallucinations）。\n",
        "\n",
        "在此筆記本中，您將學習如何進行多模態 RAG，透過結合文字與圖片的財務文件進行問答。\n",
        "\n",
        "## Gemini\n",
        "- Gemini 是 Google DeepMind 開發的一系列生成式 AI 模型，專為多模態應用設計。\n",
        "- Gemini API 提供對 Gemini 1.0 Pro Vision 和 Gemini 1.0 Pro 模型的存取。\n",
        "\n",
        "## 比較文字型與多模態 RAG\n",
        "多模態 RAG 相較於文字型 RAG 具有以下幾項優勢：\n",
        "\n",
        "1. 增強的知識存取能力：\n",
        "多模態 RAG 能處理文字與視覺資訊，為大型語言模型提供更豐富、更全面的知識基礎。\n",
        "\n",
        "2. 改進的推理能力：\n",
        "藉由整合視覺線索，多模態 RAG 能在不同數據模態之間進行更明智的推斷。\n",
        "\n",
        "此筆記本將教您如何在 Vertex AI 中，結合 Gemini API、文字嵌入 和 多模態嵌入，構建文件搜尋引擎。\n",
        "\n",
        "透過實際操作範例，您將學會如何為文件來源建構一個多媒體豐富的中繼資料庫，實現跨多元資訊流的搜尋、比較與推理功能。"
      ]
    },
    {
      "cell_type": "markdown",
      "metadata": {
        "id": "RQT500QqVPIb"
      },
      "source": [
        "## 單元目標\n",
        "本筆記本逐步提供建構文件搜尋引擎的指南，透過多模態檢索增強生成（RAG）實現以下功能：\n",
        "\n",
        "- 提取並儲存包含文字的文件中繼資料(metadata)，並為文件生成嵌入向量\n",
        "- 使用文字查詢搜尋中繼資料(metadata)，並向LLM提供檢索結果並回答問題"
      ]
    },
    {
      "cell_type": "markdown",
      "metadata": {
        "id": "KnpYxfesh2rI"
      },
      "source": [
        "## 工具:\n",
        "請注意，專案必須要啟動以下GCP API服務:\n",
        "- Vertex AI"
      ]
    },
    {
      "cell_type": "markdown",
      "metadata": {
        "id": "DXJpXzKrh2rJ"
      },
      "source": [
        "## 基本設定"
      ]
    },
    {
      "cell_type": "markdown",
      "metadata": {
        "id": "N5afkyDMSBW5"
      },
      "source": [
        "### 下載安裝 Vertex AI SDK for Python 及其他相依套件"
      ]
    },
    {
      "cell_type": "code",
      "execution_count": 1,
      "metadata": {
        "colab": {
          "base_uri": "https://localhost:8080/",
          "height": 1000
        },
        "id": "kc4WxYmLSBW5",
        "outputId": "ced9494a-bd24-4097-bacd-78ed6c556b94"
      },
      "outputs": [
        {
          "name": "stdout",
          "output_type": "stream",
          "text": [
            "Requirement already satisfied: google-cloud-aiplatform in /usr/local/lib/python3.10/dist-packages (1.74.0)\n",
            "Collecting google-cloud-aiplatform\n",
            "  Downloading google_cloud_aiplatform-1.76.0-py2.py3-none-any.whl.metadata (31 kB)\n",
            "Collecting pymupdf\n",
            "  Downloading pymupdf-1.25.1-cp39-abi3-manylinux2014_x86_64.manylinux_2_17_x86_64.whl.metadata (3.4 kB)\n",
            "Requirement already satisfied: rich in /usr/local/lib/python3.10/dist-packages (13.9.4)\n",
            "Collecting colorama\n",
            "  Downloading colorama-0.4.6-py2.py3-none-any.whl.metadata (17 kB)\n",
            "Requirement already satisfied: google-api-core!=2.0.*,!=2.1.*,!=2.2.*,!=2.3.*,!=2.4.*,!=2.5.*,!=2.6.*,!=2.7.*,<3.0.0dev,>=1.34.1 in /usr/local/lib/python3.10/dist-packages (from google-api-core[grpc]!=2.0.*,!=2.1.*,!=2.2.*,!=2.3.*,!=2.4.*,!=2.5.*,!=2.6.*,!=2.7.*,<3.0.0dev,>=1.34.1->google-cloud-aiplatform) (2.19.2)\n",
            "Requirement already satisfied: google-auth<3.0.0dev,>=2.14.1 in /usr/local/lib/python3.10/dist-packages (from google-cloud-aiplatform) (2.27.0)\n",
            "Requirement already satisfied: proto-plus<2.0.0dev,>=1.22.3 in /usr/local/lib/python3.10/dist-packages (from google-cloud-aiplatform) (1.25.0)\n",
            "Requirement already satisfied: protobuf!=4.21.0,!=4.21.1,!=4.21.2,!=4.21.3,!=4.21.4,!=4.21.5,<6.0.0dev,>=3.20.2 in /usr/local/lib/python3.10/dist-packages (from google-cloud-aiplatform) (4.25.5)\n",
            "Requirement already satisfied: packaging>=14.3 in /usr/local/lib/python3.10/dist-packages (from google-cloud-aiplatform) (24.2)\n",
            "Requirement already satisfied: google-cloud-storage<3.0.0dev,>=1.32.0 in /usr/local/lib/python3.10/dist-packages (from google-cloud-aiplatform) (2.19.0)\n",
            "Requirement already satisfied: google-cloud-bigquery!=3.20.0,<4.0.0dev,>=1.15.0 in /usr/local/lib/python3.10/dist-packages (from google-cloud-aiplatform) (3.25.0)\n",
            "Requirement already satisfied: google-cloud-resource-manager<3.0.0dev,>=1.3.3 in /usr/local/lib/python3.10/dist-packages (from google-cloud-aiplatform) (1.14.0)\n",
            "Requirement already satisfied: shapely<3.0.0dev in /usr/local/lib/python3.10/dist-packages (from google-cloud-aiplatform) (2.0.6)\n",
            "Requirement already satisfied: pydantic<3 in /usr/local/lib/python3.10/dist-packages (from google-cloud-aiplatform) (2.10.4)\n",
            "Requirement already satisfied: typing-extensions in /usr/local/lib/python3.10/dist-packages (from google-cloud-aiplatform) (4.12.2)\n",
            "Requirement already satisfied: docstring-parser<1 in /usr/local/lib/python3.10/dist-packages (from google-cloud-aiplatform) (0.16)\n",
            "Requirement already satisfied: markdown-it-py>=2.2.0 in /usr/local/lib/python3.10/dist-packages (from rich) (3.0.0)\n",
            "Requirement already satisfied: pygments<3.0.0,>=2.13.0 in /usr/local/lib/python3.10/dist-packages (from rich) (2.18.0)\n",
            "Requirement already satisfied: googleapis-common-protos<2.0.dev0,>=1.56.2 in /usr/local/lib/python3.10/dist-packages (from google-api-core!=2.0.*,!=2.1.*,!=2.2.*,!=2.3.*,!=2.4.*,!=2.5.*,!=2.6.*,!=2.7.*,<3.0.0dev,>=1.34.1->google-api-core[grpc]!=2.0.*,!=2.1.*,!=2.2.*,!=2.3.*,!=2.4.*,!=2.5.*,!=2.6.*,!=2.7.*,<3.0.0dev,>=1.34.1->google-cloud-aiplatform) (1.66.0)\n",
            "Requirement already satisfied: requests<3.0.0.dev0,>=2.18.0 in /usr/local/lib/python3.10/dist-packages (from google-api-core!=2.0.*,!=2.1.*,!=2.2.*,!=2.3.*,!=2.4.*,!=2.5.*,!=2.6.*,!=2.7.*,<3.0.0dev,>=1.34.1->google-api-core[grpc]!=2.0.*,!=2.1.*,!=2.2.*,!=2.3.*,!=2.4.*,!=2.5.*,!=2.6.*,!=2.7.*,<3.0.0dev,>=1.34.1->google-cloud-aiplatform) (2.32.3)\n",
            "Requirement already satisfied: grpcio<2.0dev,>=1.33.2 in /usr/local/lib/python3.10/dist-packages (from google-api-core[grpc]!=2.0.*,!=2.1.*,!=2.2.*,!=2.3.*,!=2.4.*,!=2.5.*,!=2.6.*,!=2.7.*,<3.0.0dev,>=1.34.1->google-cloud-aiplatform) (1.69.0)\n",
            "Requirement already satisfied: grpcio-status<2.0.dev0,>=1.33.2 in /usr/local/lib/python3.10/dist-packages (from google-api-core[grpc]!=2.0.*,!=2.1.*,!=2.2.*,!=2.3.*,!=2.4.*,!=2.5.*,!=2.6.*,!=2.7.*,<3.0.0dev,>=1.34.1->google-cloud-aiplatform) (1.62.3)\n",
            "Requirement already satisfied: cachetools<6.0,>=2.0.0 in /usr/local/lib/python3.10/dist-packages (from google-auth<3.0.0dev,>=2.14.1->google-cloud-aiplatform) (5.5.0)\n",
            "Requirement already satisfied: pyasn1-modules>=0.2.1 in /usr/local/lib/python3.10/dist-packages (from google-auth<3.0.0dev,>=2.14.1->google-cloud-aiplatform) (0.4.1)\n",
            "Requirement already satisfied: rsa<5,>=3.1.4 in /usr/local/lib/python3.10/dist-packages (from google-auth<3.0.0dev,>=2.14.1->google-cloud-aiplatform) (4.9)\n",
            "Requirement already satisfied: google-cloud-core<3.0.0dev,>=1.6.0 in /usr/local/lib/python3.10/dist-packages (from google-cloud-bigquery!=3.20.0,<4.0.0dev,>=1.15.0->google-cloud-aiplatform) (2.4.1)\n",
            "Requirement already satisfied: google-resumable-media<3.0dev,>=0.6.0 in /usr/local/lib/python3.10/dist-packages (from google-cloud-bigquery!=3.20.0,<4.0.0dev,>=1.15.0->google-cloud-aiplatform) (2.7.2)\n",
            "Requirement already satisfied: python-dateutil<3.0dev,>=2.7.2 in /usr/local/lib/python3.10/dist-packages (from google-cloud-bigquery!=3.20.0,<4.0.0dev,>=1.15.0->google-cloud-aiplatform) (2.8.2)\n",
            "Requirement already satisfied: grpc-google-iam-v1<1.0.0dev,>=0.12.4 in /usr/local/lib/python3.10/dist-packages (from google-cloud-resource-manager<3.0.0dev,>=1.3.3->google-cloud-aiplatform) (0.14.0)\n",
            "Requirement already satisfied: google-crc32c<2.0dev,>=1.0 in /usr/local/lib/python3.10/dist-packages (from google-cloud-storage<3.0.0dev,>=1.32.0->google-cloud-aiplatform) (1.6.0)\n",
            "Requirement already satisfied: mdurl~=0.1 in /usr/local/lib/python3.10/dist-packages (from markdown-it-py>=2.2.0->rich) (0.1.2)\n",
            "Requirement already satisfied: annotated-types>=0.6.0 in /usr/local/lib/python3.10/dist-packages (from pydantic<3->google-cloud-aiplatform) (0.7.0)\n",
            "Requirement already satisfied: pydantic-core==2.27.2 in /usr/local/lib/python3.10/dist-packages (from pydantic<3->google-cloud-aiplatform) (2.27.2)\n",
            "Requirement already satisfied: numpy<3,>=1.14 in /usr/local/lib/python3.10/dist-packages (from shapely<3.0.0dev->google-cloud-aiplatform) (1.26.4)\n",
            "Requirement already satisfied: pyasn1<0.7.0,>=0.4.6 in /usr/local/lib/python3.10/dist-packages (from pyasn1-modules>=0.2.1->google-auth<3.0.0dev,>=2.14.1->google-cloud-aiplatform) (0.6.1)\n",
            "Requirement already satisfied: six>=1.5 in /usr/local/lib/python3.10/dist-packages (from python-dateutil<3.0dev,>=2.7.2->google-cloud-bigquery!=3.20.0,<4.0.0dev,>=1.15.0->google-cloud-aiplatform) (1.17.0)\n",
            "Requirement already satisfied: charset-normalizer<4,>=2 in /usr/local/lib/python3.10/dist-packages (from requests<3.0.0.dev0,>=2.18.0->google-api-core!=2.0.*,!=2.1.*,!=2.2.*,!=2.3.*,!=2.4.*,!=2.5.*,!=2.6.*,!=2.7.*,<3.0.0dev,>=1.34.1->google-api-core[grpc]!=2.0.*,!=2.1.*,!=2.2.*,!=2.3.*,!=2.4.*,!=2.5.*,!=2.6.*,!=2.7.*,<3.0.0dev,>=1.34.1->google-cloud-aiplatform) (3.4.1)\n",
            "Requirement already satisfied: idna<4,>=2.5 in /usr/local/lib/python3.10/dist-packages (from requests<3.0.0.dev0,>=2.18.0->google-api-core!=2.0.*,!=2.1.*,!=2.2.*,!=2.3.*,!=2.4.*,!=2.5.*,!=2.6.*,!=2.7.*,<3.0.0dev,>=1.34.1->google-api-core[grpc]!=2.0.*,!=2.1.*,!=2.2.*,!=2.3.*,!=2.4.*,!=2.5.*,!=2.6.*,!=2.7.*,<3.0.0dev,>=1.34.1->google-cloud-aiplatform) (3.10)\n",
            "Requirement already satisfied: urllib3<3,>=1.21.1 in /usr/local/lib/python3.10/dist-packages (from requests<3.0.0.dev0,>=2.18.0->google-api-core!=2.0.*,!=2.1.*,!=2.2.*,!=2.3.*,!=2.4.*,!=2.5.*,!=2.6.*,!=2.7.*,<3.0.0dev,>=1.34.1->google-api-core[grpc]!=2.0.*,!=2.1.*,!=2.2.*,!=2.3.*,!=2.4.*,!=2.5.*,!=2.6.*,!=2.7.*,<3.0.0dev,>=1.34.1->google-cloud-aiplatform) (2.3.0)\n",
            "Requirement already satisfied: certifi>=2017.4.17 in /usr/local/lib/python3.10/dist-packages (from requests<3.0.0.dev0,>=2.18.0->google-api-core!=2.0.*,!=2.1.*,!=2.2.*,!=2.3.*,!=2.4.*,!=2.5.*,!=2.6.*,!=2.7.*,<3.0.0dev,>=1.34.1->google-api-core[grpc]!=2.0.*,!=2.1.*,!=2.2.*,!=2.3.*,!=2.4.*,!=2.5.*,!=2.6.*,!=2.7.*,<3.0.0dev,>=1.34.1->google-cloud-aiplatform) (2024.12.14)\n",
            "Downloading google_cloud_aiplatform-1.76.0-py2.py3-none-any.whl (6.9 MB)\n",
            "\u001b[2K   \u001b[90m━━━━━━━━━━━━━━━━━━━━━━━━━━━━━━━━━━━━━━━━\u001b[0m \u001b[32m6.9/6.9 MB\u001b[0m \u001b[31m36.5 MB/s\u001b[0m eta \u001b[36m0:00:00\u001b[0m\n",
            "\u001b[?25hDownloading pymupdf-1.25.1-cp39-abi3-manylinux2014_x86_64.manylinux_2_17_x86_64.whl (20.0 MB)\n",
            "\u001b[2K   \u001b[90m━━━━━━━━━━━━━━━━━━━━━━━━━━━━━━━━━━━━━━━━\u001b[0m \u001b[32m20.0/20.0 MB\u001b[0m \u001b[31m16.1 MB/s\u001b[0m eta \u001b[36m0:00:00\u001b[0m\n",
            "\u001b[?25hDownloading colorama-0.4.6-py2.py3-none-any.whl (25 kB)\n",
            "Installing collected packages: pymupdf, colorama, google-cloud-aiplatform\n",
            "\u001b[33m  WARNING: The script pymupdf is installed in '/root/.local/bin' which is not on PATH.\n",
            "  Consider adding this directory to PATH or, if you prefer to suppress this warning, use --no-warn-script-location.\u001b[0m\u001b[33m\n",
            "\u001b[0m\u001b[33m  WARNING: The script tb-gcp-uploader is installed in '/root/.local/bin' which is not on PATH.\n",
            "  Consider adding this directory to PATH or, if you prefer to suppress this warning, use --no-warn-script-location.\u001b[0m\u001b[33m\n",
            "\u001b[0mSuccessfully installed colorama-0.4.6 google-cloud-aiplatform-1.76.0 pymupdf-1.25.1\n"
          ]
        },
        {
          "data": {
            "application/vnd.colab-display-data+json": {
              "id": "54e79074ba4f4a87af21b898170565cf",
              "pip_warning": {
                "packages": [
                  "google"
                ]
              }
            }
          },
          "metadata": {},
          "output_type": "display_data"
        }
      ],
      "source": [
        "%pip install --upgrade --user google-cloud-aiplatform pymupdf rich colorama"
      ]
    },
    {
      "cell_type": "markdown",
      "metadata": {
        "id": "R5Xep4W9lq-Z"
      },
      "source": [
        "### 重啟以確保套件成功載入"
      ]
    },
    {
      "cell_type": "code",
      "execution_count": 2,
      "metadata": {
        "colab": {
          "base_uri": "https://localhost:8080/"
        },
        "id": "XRvKdaPDTznN",
        "outputId": "f9688ae8-3c02-4151-e9b2-72e396d79b09"
      },
      "outputs": [
        {
          "data": {
            "text/plain": [
              "{'status': 'ok', 'restart': True}"
            ]
          },
          "execution_count": 2,
          "metadata": {},
          "output_type": "execute_result"
        }
      ],
      "source": [
        "# Restart kernel after installs so that your environment can access the new packages\n",
        "import IPython\n",
        "\n",
        "app = IPython.Application.instance()\n",
        "app.kernel.do_shutdown(True)"
      ]
    },
    {
      "cell_type": "markdown",
      "metadata": {
        "id": "SbmM4z7FOBpM"
      },
      "source": [
        "<div class=\"alert alert-block alert-warning\">\n",
        "<b>⚠️ The kernel is going to restart. Please wait until it is finished before continuing to the next step. ⚠️</b>\n",
        "</div>\n"
      ]
    },
    {
      "cell_type": "markdown",
      "metadata": {
        "id": "FtsU9Bw9h2rL"
      },
      "source": [
        "### 驗證Colab 環境(僅Colab需要)"
      ]
    },
    {
      "cell_type": "code",
      "execution_count": 1,
      "metadata": {
        "id": "GpYEyLsOh2rL"
      },
      "outputs": [],
      "source": [
        "import sys\n",
        "\n",
        "# Additional authentication is required for Google Colab\n",
        "if \"google.colab\" in sys.modules:\n",
        "    # Authenticate user to Google Cloud\n",
        "    from google.colab import auth\n",
        "\n",
        "    auth.authenticate_user()"
      ]
    },
    {
      "cell_type": "markdown",
      "metadata": {
        "id": "O1vKZZoEh2rL"
      },
      "source": [
        "### 初始化 GCP 專案設定\n",
        "請注意，專案必須要啟動以下API服務:\n",
        "- Vertex AI API\n",
        "\n",
        "https://console.cloud.google.com</br>\n",
        "\n",
        "以下輸入您的專案ID以及欲使用的伺服器區域。"
      ]
    },
    {
      "cell_type": "code",
      "execution_count": 2,
      "metadata": {
        "colab": {
          "base_uri": "https://localhost:8080/"
        },
        "id": "gJqZ76rJh2rM",
        "outputId": "99cf4f3d-60b2-4a68-94ff-432bfab19742"
      },
      "outputs": [
        {
          "name": "stdout",
          "output_type": "stream",
          "text": [
            "Your project ID is: side-projcet-placeholder\n"
          ]
        }
      ],
      "source": [
        "# Define project information\n",
        "\n",
        "import sys\n",
        "\n",
        "PROJECT_ID = \"side-projcet-placeholder\"  # @param {type:\"string\"}\n",
        "LOCATION = \"us-central1\"  # @param {type:\"string\"}\n",
        "\n",
        "# if not running on Colab, try to get the PROJECT_ID automatically\n",
        "if \"google.colab\" not in sys.modules:\n",
        "    import subprocess\n",
        "\n",
        "    PROJECT_ID = subprocess.check_output(\n",
        "        [\"gcloud\", \"config\", \"get-value\", \"project\"], text=True\n",
        "    ).strip()\n",
        "\n",
        "print(f\"Your project ID is: {PROJECT_ID}\")"
      ]
    },
    {
      "cell_type": "markdown",
      "metadata": {
        "id": "umWOVxrBdRR6"
      },
      "source": [
        "### 初始化 Vertex AI"
      ]
    },
    {
      "cell_type": "code",
      "execution_count": 3,
      "metadata": {
        "id": "D48gUW5-h2rM"
      },
      "outputs": [],
      "source": [
        "import sys\n",
        "\n",
        "# Initialize Vertex AI\n",
        "import vertexai\n",
        "\n",
        "vertexai.init(project=PROJECT_ID, location=LOCATION)"
      ]
    },
    {
      "cell_type": "markdown",
      "metadata": {
        "id": "BuQwwRiniVFG"
      },
      "source": [
        "### 導入函式庫"
      ]
    },
    {
      "cell_type": "code",
      "execution_count": 4,
      "metadata": {
        "id": "rtMowvm-yQ97"
      },
      "outputs": [],
      "source": [
        "from vertexai.generative_models import GenerationConfig, GenerativeModel, Image"
      ]
    },
    {
      "cell_type": "markdown",
      "metadata": {
        "id": "r-TX_R_xh2rM"
      },
      "source": [
        "### 定義及載入 Gemini 1.5 Pro 和 Gemini 1.5 Flash 模型"
      ]
    },
    {
      "cell_type": "code",
      "execution_count": 5,
      "metadata": {
        "id": "SvMwSRJJh2rM"
      },
      "outputs": [],
      "source": [
        "text_model = GenerativeModel(\"gemini-1.5-pro\")\n",
        "multimodal_model = GenerativeModel(\"gemini-1.5-pro\")"
      ]
    },
    {
      "cell_type": "markdown",
      "metadata": {
        "id": "1lCfREXK5SWD"
      },
      "source": [
        "### 下載示範用檔案以及額外外掛套件\n",
        "\n",
        "原作者:\n",
        "You can view the code for the utils here: (`intro_multimodal_rag_utils.py`) directly on [GitHub](https://storage.googleapis.com/github-repo/rag/intro_multimodal_rag/intro_multimodal_rag_old_version/intro_multimodal_rag_utils.py)."
      ]
    },
    {
      "cell_type": "code",
      "execution_count": 6,
      "metadata": {
        "colab": {
          "base_uri": "https://localhost:8080/"
        },
        "id": "KwbL89zcY39N",
        "outputId": "4e21d792-c9af-4555-b5cd-136dcbdef63c"
      },
      "outputs": [
        {
          "name": "stdout",
          "output_type": "stream",
          "text": [
            "\n",
            "WARNING: gsutil rsync uses hashes when modification time is not available at\n",
            "both the source and destination. Your crcmod installation isn't using the\n",
            "module's C extension, so checksumming will run very slowly. If this is your\n",
            "first rsync since updating gsutil, this rsync can take significantly longer than\n",
            "usual. For help installing the extension, please see \"gsutil help crcmod\".\n",
            "\n",
            "Building synchronization state...\n",
            "Starting synchronization...\n",
            "Copying gs://github-repo/rag/intro_multimodal_rag/intro_multimodal_rag_old_version/data/google-10k-sample-part1.pdf...\n",
            "Copying gs://github-repo/rag/intro_multimodal_rag/intro_multimodal_rag_old_version/class_a_share.png...\n",
            "Copying gs://github-repo/rag/intro_multimodal_rag/intro_multimodal_rag_old_version/intro_multimodal_rag_utils.py...\n",
            "Copying gs://github-repo/rag/intro_multimodal_rag/intro_multimodal_rag_old_version/tac_table_revenue.png...\n",
            "Copying gs://github-repo/rag/intro_multimodal_rag/intro_multimodal_rag_old_version/data/google-10k-sample-part2.pdf...\n",
            "- [5/5 files][882.3 KiB/882.3 KiB] 100% Done                                    \n",
            "Operation completed over 5 objects/882.3 KiB.                                    \n",
            "  % Total    % Received % Xferd  Average Speed   Time    Time     Time  Current\n",
            "                                 Dload  Upload   Total   Spent    Left  Speed\n",
            "100   99k  100   99k    0     0   370k      0 --:--:-- --:--:-- --:--:--  370k\n",
            "Download completed\n"
          ]
        }
      ],
      "source": [
        "# download documents and images used in this notebook\n",
        "!gsutil -m rsync -r gs://github-repo/rag/intro_multimodal_rag/intro_multimodal_rag_old_version .\n",
        "!mkdir pdf\n",
        "!curl -o ./pdf/example.pdf https://raw.githubusercontent.com/TWCkaijin/GDGC-Gemini-bootcamp/main/RAG/examplefile.pdf\n",
        "print(\"Download completed\")"
      ]
    },
    {
      "cell_type": "markdown",
      "metadata": {
        "id": "Ps1G-cCfpibN"
      },
      "source": [
        "## 建立包含文字metadata"
      ]
    },
    {
      "cell_type": "markdown",
      "metadata": {
        "id": "jqLsy3iZ5t-R"
      },
      "source": [
        "### 範例資料內容\n",
        "\n",
        "在此筆記本中，我們將使用的原始數據為一篇「虛構角色的生平故事」\n",
        "\n",
        "單一、獨立且無出現在網路上的內容，適合進行多模態檢索增強生成（RAG）的實驗與學習。"
      ]
    },
    {
      "cell_type": "markdown",
      "metadata": {
        "id": "zvt0sus5KSNX"
      },
      "source": [
        "\n",
        "### 匯入輔助函數以建立metadata\n",
        "在構建多模態 RAG 系統之前，需先準備文件中所有文字與圖片的metadata。為了便於引用與參考，metadata應包含關鍵元素，例如頁碼、檔案名稱等。\n",
        "\n",
        "接下來，您將從這些metadata中生成嵌入向量，這些嵌入向量是執行相似性搜尋時的必要條件。"
      ]
    },
    {
      "cell_type": "code",
      "execution_count": 7,
      "metadata": {
        "id": "N3wo2jv2rP7v"
      },
      "outputs": [],
      "source": [
        "from intro_multimodal_rag_utils import get_document_metadata"
      ]
    },
    {
      "cell_type": "markdown",
      "metadata": {
        "id": "5BOAkYN0KlSL"
      },
      "source": [
        "### 從文件中提取並儲存文字和圖片的metadata"
      ]
    },
    {
      "cell_type": "markdown",
      "metadata": {
        "id": "Q9hBPPWs5CMd"
      },
      "source": [
        "我們剛剛匯入了一個名為 ```get_document_metadata()``` 的函數。這個函數會從文件中提取文字和圖片的中繼資料，並返回兩個資料框，分別為 ```text_metadata``` 和 ```image_metadata``` 。如果你想了解更多有關 ```get_document_metadata()``` 函數如何使用 Gemini 和嵌入模型實現的細節，你可以直接查看[source code](https://raw.githubusercontent.com/GoogleCloudPlatform/generative-ai/main/gemini/use-cases/retrieval-augmented-generation/utils/intro_multimodal_rag_utils.py)。\n",
        "\n",
        "提取並儲存文字和圖片metadata的原因在於，僅使用其中一個資料類型不足以得出相關的答案。例如，相關答案可能以視覺形式存在於文件中，但文字型 RAG 無法考慮到視覺圖像。你稍後會在這本筆記本中探索這個範例。\n",
        "\n",
        "\n",
        "\n",
        "\n",
        "\n",
        "\n"
      ]
    },
    {
      "cell_type": "markdown",
      "metadata": {
        "id": "PnKru0sBh2rN"
      },
      "source": [
        "在下一步，我們將使用這個函數來提取並儲存文件中文字和圖片的metadata。請注意，以下的程式區塊可能需要幾分鐘才能完成執行。"
      ]
    },
    {
      "cell_type": "markdown",
      "metadata": {
        "id": "jFgRwzokrP7v"
      },
      "source": [
        "注意事項：\n",
        "\n",
        "目前的實現最適用於以下情況：\n",
        "\n",
        "* 文件中包含文字和圖片的組合。\n",
        "* 文件中的表格以圖片形式呈現。\n",
        "* 文件中的圖片不需要太多上下文信息。</br>\n",
        "(但為了方便，本範例檔案僅含有文字)\n",
        "\n",
        "另外，\n",
        "* 你也可以使用常規的 RAG 方法。可以參考這份檔案 [RAG_text_only](https://github.com/kevin6449/LANGCHAIN_RAG/blob/main/LangChain_RAG.ipynb)\n",
        "* 如果文件包含額外特定領域的知識，可以將這些信息傳遞至下方的提示語中。"
      ]
    },
    {
      "cell_type": "markdown",
      "metadata": {
        "id": "nflT_j-9QzC_"
      },
      "source": [
        "<div class=\"alert alert-block alert-warning\">\n",
        "<b>⚠️ 不要傳送超過50頁的資料，你可能會遇到流量限制 ⚠️</b></br>\n",
        "⚠️ 如果你遇到了其他形式的流量限制，請開啟下方的add_sleep_after_page並設定sleep_time_after_page ⚠️\n",
        "</div>"
      ]
    },
    {
      "cell_type": "code",
      "execution_count": 8,
      "metadata": {
        "colab": {
          "base_uri": "https://localhost:8080/"
        },
        "id": "X8hE0tWD-lf8",
        "outputId": "e335c507-9685-4c7d-f44e-3fff02baa089"
      },
      "outputs": [
        {
          "name": "stdout",
          "output_type": "stream",
          "text": [
            "\n",
            "\n",
            " Processing the file: --------------------------------- pdf/example.pdf \n",
            "\n",
            "\n",
            "Processing page: 1\n",
            "Sleeping for  1  sec before processing the next page to avoid quota issues. You can disable it: \"add_sleep_after_page = False\"  \n",
            "Processing page: 2\n",
            "Sleeping for  1  sec before processing the next page to avoid quota issues. You can disable it: \"add_sleep_after_page = False\"  \n",
            "Processing page: 3\n",
            "Sleeping for  1  sec before processing the next page to avoid quota issues. You can disable it: \"add_sleep_after_page = False\"  \n",
            "Processing page: 4\n",
            "Sleeping for  1  sec before processing the next page to avoid quota issues. You can disable it: \"add_sleep_after_page = False\"  \n",
            "\n",
            "\n",
            " --- Completed processing. ---\n"
          ]
        }
      ],
      "source": [
        "pdf_folder_path = \"pdf/\"\n",
        "\n",
        "\n",
        "image_description_prompt = \"\"\"Explain what is going on in the image.\n",
        "If it's a table, extract all elements of the table.\n",
        "If it's a graph, explain the findings in the graph.\n",
        "Do not include any numbers that are not mentioned in the image.\n",
        "\"\"\"\n",
        "\n",
        "# Extract text and image metadata from the PDF document\n",
        "text_metadata_df, image_metadata_df = get_document_metadata(\n",
        "    multimodal_model,  # we are passing Gemini 1.5 Pro model\n",
        "    pdf_folder_path,\n",
        "    image_save_dir=\"images\",\n",
        "    image_description_prompt=image_description_prompt,\n",
        "    embedding_size=2048,\n",
        "    add_sleep_after_page = True, # Uncomment this if you are running into API quota issues\n",
        "    sleep_time_after_page = 1,\n",
        "    # generation_config = # see next cell\n",
        "    # safety_settings =  # see next cell\n",
        ")\n",
        "\n",
        "print(\"\\n\\n --- Completed processing. ---\")"
      ]
    },
    {
      "cell_type": "markdown",
      "metadata": {
        "id": "miBBoEXwh2rN"
      },
      "source": [
        "#### 檢視處理過的文字metadata\n",
        "以下的程式區塊將產生一個metadata表格，描述不同部分的文字metadata，包括：\n",
        "\n",
        "- text: 來自頁面的原始文字\n",
        "- text_embedding_page: 頁面上原始文字的嵌入向量\n",
        "- chunk_text: 將原始文字分割成較小的區塊\n",
        "- chunk_number: 每個文字區塊的索引\n",
        "- text_embedding_chunk: 每個文字區塊的嵌入向量\n",
        "\n",
        "\n",
        "\n",
        "\n",
        "\n"
      ]
    },
    {
      "cell_type": "code",
      "execution_count": 9,
      "metadata": {
        "colab": {
          "base_uri": "https://localhost:8080/",
          "height": 293
        },
        "collapsed": true,
        "id": "6t3AIGFar8Mo",
        "outputId": "1101cf2d-02ba-4377-c8a7-5b6d3b79b9bb"
      },
      "outputs": [
        {
          "data": {
            "application/vnd.google.colaboratory.intrinsic+json": {
              "summary": "{\n  \"name\": \"text_metadata_df\",\n  \"rows\": 8,\n  \"fields\": [\n    {\n      \"column\": \"file_name\",\n      \"properties\": {\n        \"dtype\": \"category\",\n        \"num_unique_values\": 1,\n        \"samples\": [\n          \"example.pdf\"\n        ],\n        \"semantic_type\": \"\",\n        \"description\": \"\"\n      }\n    },\n    {\n      \"column\": \"page_num\",\n      \"properties\": {\n        \"dtype\": \"number\",\n        \"std\": 1,\n        \"min\": 1,\n        \"max\": 4,\n        \"num_unique_values\": 4,\n        \"samples\": [\n          2\n        ],\n        \"semantic_type\": \"\",\n        \"description\": \"\"\n      }\n    },\n    {\n      \"column\": \"text\",\n      \"properties\": {\n        \"dtype\": \"string\",\n        \"num_unique_values\": 4,\n        \"samples\": [\n          \" \\nadept tracker, his shadow melding seamlessly into the \\nforests darkness, making him nearly invisible. \\nAetheria, however, was not a land of peace. The kingdom \\nwas under siege by an enigmatic force known as the \\nCrimson Veil, a cult seeking to unearth relics of the lost \\nEldran Empire. These artifacts, imbued with immense \\npower, could alter the fabric of reality itself. The Veils \\nrelentless quest for dominance brought chaos to Korvins \\nquiet village, culminating in an event that would change \\nhis life forever. \\nOn the eve of his eighteenth birthday, the Crimson Veil \\ndescended upon the village. Flames engulfed the homes, \\nand screams echoed through the night as cultists wielding \\ncorrupted magic overwhelmed the villagers. Korvins \\nparents fought valiantly to protect him, but even their \\ncombined skills were no match for the Veils leader, a \\nsorceress known only as Virela. With a cruel smile, Virela \\nunleashed a torrent of eldritch energy, leaving Miralia and \\nErydan lifeless. \\nConsumed by grief and rage, Korvins shadow powers \\nerupted in a maelstrom of darkness. Tendrils lashed out, \\nsnuffing out the flames and enveloping the cultists in a \\nsuffocating shroud. Virela barely escaped, but not before \\nleaving a cryptic warning: You cannot fight destiny, \\nShadows Whisper. The Veil will rise, and so shall your \\nend. \\nIn the aftermath, Korvin vowed to dedicate his life to \\ndismantling the Crimson Veil. Armed with his fathers \\nenchanted blades and his mothers potion recipes, he \\nembarked on a journey across Aetheria. Along the way, he \\nencountered others who shared his goala ragtag group \\nof adventurers who would become his closest allies. \\nAmong them was Liora, a fiery pyromancer seeking \\n\"\n        ],\n        \"semantic_type\": \"\",\n        \"description\": \"\"\n      }\n    },\n    {\n      \"column\": \"text_embedding_page\",\n      \"properties\": {\n        \"dtype\": \"object\",\n        \"semantic_type\": \"\",\n        \"description\": \"\"\n      }\n    },\n    {\n      \"column\": \"chunk_number\",\n      \"properties\": {\n        \"dtype\": \"number\",\n        \"std\": 0,\n        \"min\": 1,\n        \"max\": 2,\n        \"num_unique_values\": 2,\n        \"samples\": [\n          2\n        ],\n        \"semantic_type\": \"\",\n        \"description\": \"\"\n      }\n    },\n    {\n      \"column\": \"chunk_text\",\n      \"properties\": {\n        \"dtype\": \"string\",\n        \"num_unique_values\": 8,\n        \"samples\": [\n          \"e of these woodland escapades that \\nKorvins latent abilities began to manifest. At the age of \\nten, while playing near the Whispering Ravine, he \\naccidentally slipped. As his body plummeted toward the \\njagged rocks below, shadows writhed and coalesced, \\nforming a tendril-like arm that caught him mid-fall. The \\nvillagers whispered that Korvin was marked by the Void, a \\nforce as feared as it was misunderstood. \\nHis parents, ever pragmatic, chose to nurture their sons \\nunusual gifts rather than suppress them. Miralia taught \\nhim the ancient art of brewing potions from the forests \\nmost elusive herbs, while Erydan instructed him in the art \\nof crafting weapons that could withstand the pressures of \\nenchantments. The boys shadowy abilities only added to \\nhis skill set. By the age of sixteen, Korvin had become an \\n\"\n        ],\n        \"semantic_type\": \"\",\n        \"description\": \"\"\n      }\n    },\n    {\n      \"column\": \"text_embedding_chunk\",\n      \"properties\": {\n        \"dtype\": \"object\",\n        \"semantic_type\": \"\",\n        \"description\": \"\"\n      }\n    }\n  ]\n}",
              "type": "dataframe",
              "variable_name": "text_metadata_df"
            },
            "text/html": [
              "\n",
              "  <div id=\"df-f7dbf10d-3876-476f-b3c1-e32a14d70efc\" class=\"colab-df-container\">\n",
              "    <div>\n",
              "<style scoped>\n",
              "    .dataframe tbody tr th:only-of-type {\n",
              "        vertical-align: middle;\n",
              "    }\n",
              "\n",
              "    .dataframe tbody tr th {\n",
              "        vertical-align: top;\n",
              "    }\n",
              "\n",
              "    .dataframe thead th {\n",
              "        text-align: right;\n",
              "    }\n",
              "</style>\n",
              "<table border=\"1\" class=\"dataframe\">\n",
              "  <thead>\n",
              "    <tr style=\"text-align: right;\">\n",
              "      <th></th>\n",
              "      <th>file_name</th>\n",
              "      <th>page_num</th>\n",
              "      <th>text</th>\n",
              "      <th>text_embedding_page</th>\n",
              "      <th>chunk_number</th>\n",
              "      <th>chunk_text</th>\n",
              "      <th>text_embedding_chunk</th>\n",
              "    </tr>\n",
              "  </thead>\n",
              "  <tbody>\n",
              "    <tr>\n",
              "      <th>0</th>\n",
              "      <td>example.pdf</td>\n",
              "      <td>1</td>\n",
              "      <td>\\nThe life of Korvin Duskblade was anything b...</td>\n",
              "      <td>[-0.037203099578619, -0.0019172376487404108, -...</td>\n",
              "      <td>1</td>\n",
              "      <td>\\nThe life of Korvin Duskblade was anything b...</td>\n",
              "      <td>[-0.0470905639231205, -0.009154440835118294, -...</td>\n",
              "    </tr>\n",
              "    <tr>\n",
              "      <th>1</th>\n",
              "      <td>example.pdf</td>\n",
              "      <td>1</td>\n",
              "      <td>\\nThe life of Korvin Duskblade was anything b...</td>\n",
              "      <td>[-0.037203099578619, -0.0019172376487404108, -...</td>\n",
              "      <td>2</td>\n",
              "      <td>e of these woodland escapades that \\nKorvins l...</td>\n",
              "      <td>[-0.0537051223218441, -0.01801256090402603, -0...</td>\n",
              "    </tr>\n",
              "    <tr>\n",
              "      <th>2</th>\n",
              "      <td>example.pdf</td>\n",
              "      <td>2</td>\n",
              "      <td>\\nadept tracker, his shadow melding seamlessl...</td>\n",
              "      <td>[-0.0338033102452755, -0.021380770951509476, -...</td>\n",
              "      <td>1</td>\n",
              "      <td>\\nadept tracker, his shadow melding seamlessl...</td>\n",
              "      <td>[-0.019811248406767845, -0.021229537203907967,...</td>\n",
              "    </tr>\n",
              "    <tr>\n",
              "      <th>3</th>\n",
              "      <td>example.pdf</td>\n",
              "      <td>2</td>\n",
              "      <td>\\nadept tracker, his shadow melding seamlessl...</td>\n",
              "      <td>[-0.0338033102452755, -0.021380770951509476, -...</td>\n",
              "      <td>2</td>\n",
              "      <td>l smile, Virela \\nunleashed a torrent of eldri...</td>\n",
              "      <td>[-0.04810592532157898, -0.022631913423538208, ...</td>\n",
              "    </tr>\n",
              "    <tr>\n",
              "      <th>4</th>\n",
              "      <td>example.pdf</td>\n",
              "      <td>3</td>\n",
              "      <td>\\nredemption for her past, and Kael, a rogue ...</td>\n",
              "      <td>[-0.024566229432821274, -0.02623281069099903, ...</td>\n",
              "      <td>1</td>\n",
              "      <td>\\nredemption for her past, and Kael, a rogue ...</td>\n",
              "      <td>[-0.037951819598674774, -0.022933535277843475,...</td>\n",
              "    </tr>\n",
              "  </tbody>\n",
              "</table>\n",
              "</div>\n",
              "    <div class=\"colab-df-buttons\">\n",
              "\n",
              "  <div class=\"colab-df-container\">\n",
              "    <button class=\"colab-df-convert\" onclick=\"convertToInteractive('df-f7dbf10d-3876-476f-b3c1-e32a14d70efc')\"\n",
              "            title=\"Convert this dataframe to an interactive table.\"\n",
              "            style=\"display:none;\">\n",
              "\n",
              "  <svg xmlns=\"http://www.w3.org/2000/svg\" height=\"24px\" viewBox=\"0 -960 960 960\">\n",
              "    <path d=\"M120-120v-720h720v720H120Zm60-500h600v-160H180v160Zm220 220h160v-160H400v160Zm0 220h160v-160H400v160ZM180-400h160v-160H180v160Zm440 0h160v-160H620v160ZM180-180h160v-160H180v160Zm440 0h160v-160H620v160Z\"/>\n",
              "  </svg>\n",
              "    </button>\n",
              "\n",
              "  <style>\n",
              "    .colab-df-container {\n",
              "      display:flex;\n",
              "      gap: 12px;\n",
              "    }\n",
              "\n",
              "    .colab-df-convert {\n",
              "      background-color: #E8F0FE;\n",
              "      border: none;\n",
              "      border-radius: 50%;\n",
              "      cursor: pointer;\n",
              "      display: none;\n",
              "      fill: #1967D2;\n",
              "      height: 32px;\n",
              "      padding: 0 0 0 0;\n",
              "      width: 32px;\n",
              "    }\n",
              "\n",
              "    .colab-df-convert:hover {\n",
              "      background-color: #E2EBFA;\n",
              "      box-shadow: 0px 1px 2px rgba(60, 64, 67, 0.3), 0px 1px 3px 1px rgba(60, 64, 67, 0.15);\n",
              "      fill: #174EA6;\n",
              "    }\n",
              "\n",
              "    .colab-df-buttons div {\n",
              "      margin-bottom: 4px;\n",
              "    }\n",
              "\n",
              "    [theme=dark] .colab-df-convert {\n",
              "      background-color: #3B4455;\n",
              "      fill: #D2E3FC;\n",
              "    }\n",
              "\n",
              "    [theme=dark] .colab-df-convert:hover {\n",
              "      background-color: #434B5C;\n",
              "      box-shadow: 0px 1px 3px 1px rgba(0, 0, 0, 0.15);\n",
              "      filter: drop-shadow(0px 1px 2px rgba(0, 0, 0, 0.3));\n",
              "      fill: #FFFFFF;\n",
              "    }\n",
              "  </style>\n",
              "\n",
              "    <script>\n",
              "      const buttonEl =\n",
              "        document.querySelector('#df-f7dbf10d-3876-476f-b3c1-e32a14d70efc button.colab-df-convert');\n",
              "      buttonEl.style.display =\n",
              "        google.colab.kernel.accessAllowed ? 'block' : 'none';\n",
              "\n",
              "      async function convertToInteractive(key) {\n",
              "        const element = document.querySelector('#df-f7dbf10d-3876-476f-b3c1-e32a14d70efc');\n",
              "        const dataTable =\n",
              "          await google.colab.kernel.invokeFunction('convertToInteractive',\n",
              "                                                    [key], {});\n",
              "        if (!dataTable) return;\n",
              "\n",
              "        const docLinkHtml = 'Like what you see? Visit the ' +\n",
              "          '<a target=\"_blank\" href=https://colab.research.google.com/notebooks/data_table.ipynb>data table notebook</a>'\n",
              "          + ' to learn more about interactive tables.';\n",
              "        element.innerHTML = '';\n",
              "        dataTable['output_type'] = 'display_data';\n",
              "        await google.colab.output.renderOutput(dataTable, element);\n",
              "        const docLink = document.createElement('div');\n",
              "        docLink.innerHTML = docLinkHtml;\n",
              "        element.appendChild(docLink);\n",
              "      }\n",
              "    </script>\n",
              "  </div>\n",
              "\n",
              "\n",
              "<div id=\"df-749d5340-8406-4939-8576-fa031446997c\">\n",
              "  <button class=\"colab-df-quickchart\" onclick=\"quickchart('df-749d5340-8406-4939-8576-fa031446997c')\"\n",
              "            title=\"Suggest charts\"\n",
              "            style=\"display:none;\">\n",
              "\n",
              "<svg xmlns=\"http://www.w3.org/2000/svg\" height=\"24px\"viewBox=\"0 0 24 24\"\n",
              "     width=\"24px\">\n",
              "    <g>\n",
              "        <path d=\"M19 3H5c-1.1 0-2 .9-2 2v14c0 1.1.9 2 2 2h14c1.1 0 2-.9 2-2V5c0-1.1-.9-2-2-2zM9 17H7v-7h2v7zm4 0h-2V7h2v10zm4 0h-2v-4h2v4z\"/>\n",
              "    </g>\n",
              "</svg>\n",
              "  </button>\n",
              "\n",
              "<style>\n",
              "  .colab-df-quickchart {\n",
              "      --bg-color: #E8F0FE;\n",
              "      --fill-color: #1967D2;\n",
              "      --hover-bg-color: #E2EBFA;\n",
              "      --hover-fill-color: #174EA6;\n",
              "      --disabled-fill-color: #AAA;\n",
              "      --disabled-bg-color: #DDD;\n",
              "  }\n",
              "\n",
              "  [theme=dark] .colab-df-quickchart {\n",
              "      --bg-color: #3B4455;\n",
              "      --fill-color: #D2E3FC;\n",
              "      --hover-bg-color: #434B5C;\n",
              "      --hover-fill-color: #FFFFFF;\n",
              "      --disabled-bg-color: #3B4455;\n",
              "      --disabled-fill-color: #666;\n",
              "  }\n",
              "\n",
              "  .colab-df-quickchart {\n",
              "    background-color: var(--bg-color);\n",
              "    border: none;\n",
              "    border-radius: 50%;\n",
              "    cursor: pointer;\n",
              "    display: none;\n",
              "    fill: var(--fill-color);\n",
              "    height: 32px;\n",
              "    padding: 0;\n",
              "    width: 32px;\n",
              "  }\n",
              "\n",
              "  .colab-df-quickchart:hover {\n",
              "    background-color: var(--hover-bg-color);\n",
              "    box-shadow: 0 1px 2px rgba(60, 64, 67, 0.3), 0 1px 3px 1px rgba(60, 64, 67, 0.15);\n",
              "    fill: var(--button-hover-fill-color);\n",
              "  }\n",
              "\n",
              "  .colab-df-quickchart-complete:disabled,\n",
              "  .colab-df-quickchart-complete:disabled:hover {\n",
              "    background-color: var(--disabled-bg-color);\n",
              "    fill: var(--disabled-fill-color);\n",
              "    box-shadow: none;\n",
              "  }\n",
              "\n",
              "  .colab-df-spinner {\n",
              "    border: 2px solid var(--fill-color);\n",
              "    border-color: transparent;\n",
              "    border-bottom-color: var(--fill-color);\n",
              "    animation:\n",
              "      spin 1s steps(1) infinite;\n",
              "  }\n",
              "\n",
              "  @keyframes spin {\n",
              "    0% {\n",
              "      border-color: transparent;\n",
              "      border-bottom-color: var(--fill-color);\n",
              "      border-left-color: var(--fill-color);\n",
              "    }\n",
              "    20% {\n",
              "      border-color: transparent;\n",
              "      border-left-color: var(--fill-color);\n",
              "      border-top-color: var(--fill-color);\n",
              "    }\n",
              "    30% {\n",
              "      border-color: transparent;\n",
              "      border-left-color: var(--fill-color);\n",
              "      border-top-color: var(--fill-color);\n",
              "      border-right-color: var(--fill-color);\n",
              "    }\n",
              "    40% {\n",
              "      border-color: transparent;\n",
              "      border-right-color: var(--fill-color);\n",
              "      border-top-color: var(--fill-color);\n",
              "    }\n",
              "    60% {\n",
              "      border-color: transparent;\n",
              "      border-right-color: var(--fill-color);\n",
              "    }\n",
              "    80% {\n",
              "      border-color: transparent;\n",
              "      border-right-color: var(--fill-color);\n",
              "      border-bottom-color: var(--fill-color);\n",
              "    }\n",
              "    90% {\n",
              "      border-color: transparent;\n",
              "      border-bottom-color: var(--fill-color);\n",
              "    }\n",
              "  }\n",
              "</style>\n",
              "\n",
              "  <script>\n",
              "    async function quickchart(key) {\n",
              "      const quickchartButtonEl =\n",
              "        document.querySelector('#' + key + ' button');\n",
              "      quickchartButtonEl.disabled = true;  // To prevent multiple clicks.\n",
              "      quickchartButtonEl.classList.add('colab-df-spinner');\n",
              "      try {\n",
              "        const charts = await google.colab.kernel.invokeFunction(\n",
              "            'suggestCharts', [key], {});\n",
              "      } catch (error) {\n",
              "        console.error('Error during call to suggestCharts:', error);\n",
              "      }\n",
              "      quickchartButtonEl.classList.remove('colab-df-spinner');\n",
              "      quickchartButtonEl.classList.add('colab-df-quickchart-complete');\n",
              "    }\n",
              "    (() => {\n",
              "      let quickchartButtonEl =\n",
              "        document.querySelector('#df-749d5340-8406-4939-8576-fa031446997c button');\n",
              "      quickchartButtonEl.style.display =\n",
              "        google.colab.kernel.accessAllowed ? 'block' : 'none';\n",
              "    })();\n",
              "  </script>\n",
              "</div>\n",
              "\n",
              "    </div>\n",
              "  </div>\n"
            ],
            "text/plain": [
              "     file_name  page_num                                               text  \\\n",
              "0  example.pdf         1   \\nThe life of Korvin Duskblade was anything b...   \n",
              "1  example.pdf         1   \\nThe life of Korvin Duskblade was anything b...   \n",
              "2  example.pdf         2   \\nadept tracker, his shadow melding seamlessl...   \n",
              "3  example.pdf         2   \\nadept tracker, his shadow melding seamlessl...   \n",
              "4  example.pdf         3   \\nredemption for her past, and Kael, a rogue ...   \n",
              "\n",
              "                                 text_embedding_page  chunk_number  \\\n",
              "0  [-0.037203099578619, -0.0019172376487404108, -...             1   \n",
              "1  [-0.037203099578619, -0.0019172376487404108, -...             2   \n",
              "2  [-0.0338033102452755, -0.021380770951509476, -...             1   \n",
              "3  [-0.0338033102452755, -0.021380770951509476, -...             2   \n",
              "4  [-0.024566229432821274, -0.02623281069099903, ...             1   \n",
              "\n",
              "                                          chunk_text  \\\n",
              "0   \\nThe life of Korvin Duskblade was anything b...   \n",
              "1  e of these woodland escapades that \\nKorvins l...   \n",
              "2   \\nadept tracker, his shadow melding seamlessl...   \n",
              "3  l smile, Virela \\nunleashed a torrent of eldri...   \n",
              "4   \\nredemption for her past, and Kael, a rogue ...   \n",
              "\n",
              "                                text_embedding_chunk  \n",
              "0  [-0.0470905639231205, -0.009154440835118294, -...  \n",
              "1  [-0.0537051223218441, -0.01801256090402603, -0...  \n",
              "2  [-0.019811248406767845, -0.021229537203907967,...  \n",
              "3  [-0.04810592532157898, -0.022631913423538208, ...  \n",
              "4  [-0.037951819598674774, -0.022933535277843475,...  "
            ]
          },
          "execution_count": 9,
          "metadata": {},
          "output_type": "execute_result"
        }
      ],
      "source": [
        "text_metadata_df.head()"
      ]
    },
    {
      "cell_type": "markdown",
      "metadata": {
        "id": "iBhoOkutUtPr"
      },
      "source": [
        "### 匯入輔助函數以實現 RAG\n",
        "你將匯入以下函數，這些函數將在本筆記本的其餘部分中用來實現 RAG：\n",
        "\n",
        "- ```get_similar_text_from_query()```：根據文字查詢，使用餘弦相似度算法從文件中找出相關的文字。此函數使用中繼資料中的文字嵌入向量來計算結果，並可以根據最高分數、頁碼/區塊號或嵌入向量大小來過濾結果。\n",
        "- ```print_text_to_text_citation()```：印出從 ```get_similar_text_from_query()``` 函數檢索到的文字來源（引用）和細節。\n",
        "- ```get_similar_image_from_query()```：根據圖片路徑或圖片，從文件中找出相關的圖片。此函數使用中繼資料中的圖片嵌入向量。\n",
        "- ```print_text_to_image_citation()```：印出從 ```get_similar_image_from_query()``` 函數檢索到的圖片來源（引用）和細節。\n",
        "- ```get_gemini_response()```：與 Gemini 模型互動，基於文字和圖片輸入的結合來回答問題。\n",
        "- ```display_images()```：顯示一系列圖片，這些圖片可以是路徑或 PIL 圖片對象。"
      ]
    },
    {
      "cell_type": "code",
      "execution_count": 10,
      "metadata": {
        "id": "Tngn_vrIKdE1"
      },
      "outputs": [],
      "source": [
        "from intro_multimodal_rag_utils import (\n",
        "    display_images,\n",
        "    get_gemini_response,\n",
        "    get_similar_image_from_query,\n",
        "    get_similar_text_from_query,\n",
        "    print_text_to_image_citation,\n",
        "    print_text_to_text_citation,\n",
        ")"
      ]
    },
    {
      "cell_type": "markdown",
      "metadata": {
        "id": "KHuLlEvSKFWt"
      },
      "source": [
        "#### 文字搜尋\n",
        "讓我們從一個簡單的問題開始，看看使用文字嵌入向量的簡單文字搜尋是否能夠回答這個問題。"
      ]
    },
    {
      "cell_type": "code",
      "execution_count": 19,
      "metadata": {
        "id": "5mrFVhtCut7t"
      },
      "outputs": [],
      "source": [
        "query = \"what is the name of the main character's mother? Where do you get this conclusion?\""
      ]
    },
    {
      "cell_type": "markdown",
      "metadata": {
        "id": "XWw7-AIar-S8"
      },
      "source": [
        "### 使用文字搜尋來尋找相關資料"
      ]
    },
    {
      "cell_type": "code",
      "execution_count": 20,
      "metadata": {
        "colab": {
          "base_uri": "https://localhost:8080/"
        },
        "id": "eEzP6Yyv7N-G",
        "outputId": "9e6a106f-3598-49d9-bb41-921666a4089b"
      },
      "outputs": [
        {
          "name": "stdout",
          "output_type": "stream",
          "text": [
            "\u001b[91mCitation 1: Matched text: \n",
            "\u001b[0m\n",
            "\u001b[94mscore: \u001b[0m 0.41\n",
            "\u001b[94mfile_name: \u001b[0m example.pdf\n",
            "\u001b[94mpage_number: \u001b[0m 1\n",
            "\u001b[94mchunk_number: \u001b[0m 1\n",
            "\u001b[94mchunk_text: \u001b[0m  \n",
            "The life of Korvin Duskblade was anything but ordinary. \n",
            "Born under the twin moons of the mystical realm of \n",
            "Aetheria, he was the only child of Miralia, a skilled \n",
            "herbalist, and Erydan, a renowned blacksmith who crafted \n",
            "weapons said to hum with an inner magic. Korvins arrival \n",
            "into the world was marked by an eerie aurora streaking \n",
            "across the skies, an omen the village elders interpreted \n",
            "with hushed tones. \n",
            "Korvins childhood was steeped in wonder and \n",
            "peculiarities. He had an uncanny affinity with shadows, a \n",
            "trait that earned him the nickname Shadows Whisper \n",
            "among the villagers. By the time he could walk, Korvin \n",
            "would often be found playing in the woods, communing \n",
            "with creatures that others claimed were no more than \n",
            "figments of a childs imagination. Wolves seemed to follow \n",
            "him like loyal companions, their golden eyes reflecting \n",
            "something ancient and knowing. \n",
            "It was during one of these woodland escapades that \n",
            "Korvins latent abilities began to manifest. At the age of \n",
            "ten, \n",
            "\u001b[91mCitation 2: Matched text: \n",
            "\u001b[0m\n",
            "\u001b[94mscore: \u001b[0m 0.4\n",
            "\u001b[94mfile_name: \u001b[0m example.pdf\n",
            "\u001b[94mpage_number: \u001b[0m 2\n",
            "\u001b[94mchunk_number: \u001b[0m 1\n",
            "\u001b[94mchunk_text: \u001b[0m  \n",
            "adept tracker, his shadow melding seamlessly into the \n",
            "forests darkness, making him nearly invisible. \n",
            "Aetheria, however, was not a land of peace. The kingdom \n",
            "was under siege by an enigmatic force known as the \n",
            "Crimson Veil, a cult seeking to unearth relics of the lost \n",
            "Eldran Empire. These artifacts, imbued with immense \n",
            "power, could alter the fabric of reality itself. The Veils \n",
            "relentless quest for dominance brought chaos to Korvins \n",
            "quiet village, culminating in an event that would change \n",
            "his life forever. \n",
            "On the eve of his eighteenth birthday, the Crimson Veil \n",
            "descended upon the village. Flames engulfed the homes, \n",
            "and screams echoed through the night as cultists wielding \n",
            "corrupted magic overwhelmed the villagers. Korvins \n",
            "parents fought valiantly to protect him, but even their \n",
            "combined skills were no match for the Veils leader, a \n",
            "sorceress known only as Virela. With a cruel smile, Virela \n",
            "unleashed a torrent of eldritch energy, leaving Miralia and \n",
            "Erydan lifeless. \n",
            "Cons\n",
            "\u001b[91mCitation 3: Matched text: \n",
            "\u001b[0m\n",
            "\u001b[94mscore: \u001b[0m 0.4\n",
            "\u001b[94mfile_name: \u001b[0m example.pdf\n",
            "\u001b[94mpage_number: \u001b[0m 2\n",
            "\u001b[94mchunk_number: \u001b[0m 2\n",
            "\u001b[94mchunk_text: \u001b[0m l smile, Virela \n",
            "unleashed a torrent of eldritch energy, leaving Miralia and \n",
            "Erydan lifeless. \n",
            "Consumed by grief and rage, Korvins shadow powers \n",
            "erupted in a maelstrom of darkness. Tendrils lashed out, \n",
            "snuffing out the flames and enveloping the cultists in a \n",
            "suffocating shroud. Virela barely escaped, but not before \n",
            "leaving a cryptic warning: You cannot fight destiny, \n",
            "Shadows Whisper. The Veil will rise, and so shall your \n",
            "end. \n",
            "In the aftermath, Korvin vowed to dedicate his life to \n",
            "dismantling the Crimson Veil. Armed with his fathers \n",
            "enchanted blades and his mothers potion recipes, he \n",
            "embarked on a journey across Aetheria. Along the way, he \n",
            "encountered others who shared his goala ragtag group \n",
            "of adventurers who would become his closest allies. \n",
            "Among them was Liora, a fiery pyromancer seeking \n",
            "\n",
            "\u001b[91mCitation 4: Matched text: \n",
            "\u001b[0m\n",
            "\u001b[94mscore: \u001b[0m 0.39\n",
            "\u001b[94mfile_name: \u001b[0m example.pdf\n",
            "\u001b[94mpage_number: \u001b[0m 1\n",
            "\u001b[94mchunk_number: \u001b[0m 2\n",
            "\u001b[94mchunk_text: \u001b[0m e of these woodland escapades that \n",
            "Korvins latent abilities began to manifest. At the age of \n",
            "ten, while playing near the Whispering Ravine, he \n",
            "accidentally slipped. As his body plummeted toward the \n",
            "jagged rocks below, shadows writhed and coalesced, \n",
            "forming a tendril-like arm that caught him mid-fall. The \n",
            "villagers whispered that Korvin was marked by the Void, a \n",
            "force as feared as it was misunderstood. \n",
            "His parents, ever pragmatic, chose to nurture their sons \n",
            "unusual gifts rather than suppress them. Miralia taught \n",
            "him the ancient art of brewing potions from the forests \n",
            "most elusive herbs, while Erydan instructed him in the art \n",
            "of crafting weapons that could withstand the pressures of \n",
            "enchantments. The boys shadowy abilities only added to \n",
            "his skill set. By the age of sixteen, Korvin had become an \n",
            "\n",
            "\u001b[91mCitation 5: Matched text: \n",
            "\u001b[0m\n",
            "\u001b[94mscore: \u001b[0m 0.39\n",
            "\u001b[94mfile_name: \u001b[0m example.pdf\n",
            "\u001b[94mpage_number: \u001b[0m 3\n",
            "\u001b[94mchunk_number: \u001b[0m 1\n",
            "\u001b[94mchunk_text: \u001b[0m  \n",
            "redemption for her past, and Kael, a rogue whod lost his \n",
            "family to the Veils tyranny. \n",
            "As they delved deeper into the Veils machinations, Korvin \n",
            "uncovered unsettling truths about his own powers. \n",
            "Ancient tomes hinted that his shadow manipulation was \n",
            "tied to the Void, a dimension existing parallel to Aetheria. \n",
            "Legends spoke of a pact made eons ago between the \n",
            "Eldran Empire and the Voids sentient entities. The Eldrans \n",
            "had harnessed the Voids energy to achieve unparalleled \n",
            "advancements, but at a terrible cost: the balance between \n",
            "dimensions was disrupted, threatening all existence. \n",
            "Korvin grappled with the implications of his abilities. Was \n",
            "he a guardian, destined to protect Aetheria, or a harbinger \n",
            "of its doom? The answers seemed to elude him, even as \n",
            "the battles grew fiercer and the stakes higher. The groups \n",
            "journey took them through enchanted forests, treacherous \n",
            "mountain passes, and ancient ruins teeming with traps. \n",
            "Each encounter tested their resolve and deepened the\n",
            "\u001b[91mCitation 6: Matched text: \n",
            "\u001b[0m\n",
            "\u001b[94mscore: \u001b[0m 0.38\n",
            "\u001b[94mfile_name: \u001b[0m example.pdf\n",
            "\u001b[94mpage_number: \u001b[0m 4\n",
            "\u001b[94mchunk_number: \u001b[0m 1\n",
            "\u001b[94mchunk_text: \u001b[0m  \n",
            "betrayal, a shadowy figure who had manipulated events to \n",
            "bring about the current crisis. \n",
            "The final confrontation at the Eldran Spire was a clash of \n",
            "wills and ideals. Virela awaited them, her power amplified \n",
            "by the Veilstone. She revealed that she too was marked by \n",
            "the Void, but unlike Korvin, she sought to merge the \n",
            "dimensions, believing it was the only way to achieve true \n",
            "harmony. The Void is not our enemy, she declared. It is \n",
            "a mirror, reflecting what we refuse to see within \n",
            "ourselves. \n",
            "The battle was fierce and chaotic. Korvins shadows \n",
            "clashed with Virelas eldritch constructs, while his \n",
            "companions fought off waves of cultists. In the end, it was \n",
            "Korvins understanding of balance that tipped the scales. \n",
            "Channeling the Voids energy, he managed to wrest \n",
            "control of the Veilstone from Virela, sealing its power and \n",
            "restoring stability to the dimensions. \n",
            "The aftermath was bittersweet. The Crimson Veil was \n",
            "defeated, but the cost had been great. Liora and Kael \n",
            "survived, bu\n",
            "\u001b[91mCitation 7: Matched text: \n",
            "\u001b[0m\n",
            "\u001b[94mscore: \u001b[0m 0.37\n",
            "\u001b[94mfile_name: \u001b[0m example.pdf\n",
            "\u001b[94mpage_number: \u001b[0m 4\n",
            "\u001b[94mchunk_number: \u001b[0m 2\n",
            "\u001b[94mchunk_text: \u001b[0m ttersweet. The Crimson Veil was \n",
            "defeated, but the cost had been great. Liora and Kael \n",
            "survived, but they bore scarsboth physical and \n",
            "emotionalfrom their ordeal. As for Korvin, he chose to \n",
            "disappear from the public eye, leaving behind a world that \n",
            "viewed him as both savior and enigma. \n",
            "Legends of Shadows Whisper endure in Aetheria, tales of \n",
            "a man who walked the line between light and darkness, \n",
            "who faced his fears and emerged stronger. Some say \n",
            "Korvin still roams the forests, a guardian unseen, his \n",
            "shadow a silent protector of the realm. Others believe he \n",
            "ventured into the Void, seeking answers to questions that \n",
            "plagued him still. \n",
            "Whatever the truth, one thing is certain: Korvin \n",
            "Duskblades story is far from over. \n",
            "\n"
          ]
        }
      ],
      "source": [
        "# Matching user text query with \"chunk_embedding\" to find relevant chunks.\n",
        "matching_results_text = get_similar_text_from_query(\n",
        "    query,\n",
        "    text_metadata_df,\n",
        "    column_name=\"text_embedding_chunk\",\n",
        "    top_n=7,\n",
        "    chunk_text=True,\n",
        ")\n",
        "\n",
        "# Print the matched text citations\n",
        "print_text_to_text_citation(matching_results_text, print_top=False, chunk_text=True)"
      ]
    },
    {
      "cell_type": "markdown",
      "metadata": {
        "id": "O0bnOOf2rP70"
      },
      "source": [
        "我們可以發現，第一個高分結果包含了我們需要的信息，但仔細檢查後發現，它提到該信息存在於“以下”表格中。該表格數據是以圖片形式存在，而非文字，因此除非能處理圖片及其數據，否則很可能會錯過這些信息。\n",
        "\n",
        "不過，讓我們將相關的文字區塊輸入 Gemini 1.0 Pro 模型，看看它是否能在考慮文件中所有區塊的情況下給出我們想要的答案。這就像是基本的文字型 RAG 實現。"
      ]
    },
    {
      "cell_type": "code",
      "execution_count": 21,
      "metadata": {
        "colab": {
          "base_uri": "https://localhost:8080/"
        },
        "id": "LQREZrGsXmPc",
        "outputId": "8cccf54a-7b07-41e8-f007-05d03bcd27a8"
      },
      "outputs": [
        {
          "name": "stdout",
          "output_type": "stream",
          "text": [
            "\n",
            " **** Result: ***** \n",
            "\n",
            "The main character's mother's name is **Miralia**. \n",
            "\n",
            "This information is found in the first paragraph: \"Born under the twin moons of the mystical realm of Aetheria, he was the only child of **Miralia**, a skilled herbalist, and Erydan, a renowned blacksmith who crafted weapons said to hum with an inner magic.\" \n",
            "\n"
          ]
        }
      ],
      "source": [
        "\n",
        "print(\"\\n **** Result: ***** \\n\")\n",
        "\n",
        "# All relevant text chunk found across documents based on user query\n",
        "context = \"\\n\".join(\n",
        "    [value[\"chunk_text\"] for key, value in matching_results_text.items()]\n",
        ")\n",
        "\n",
        "instruction = f\"\"\"Answer the question with the given context.\n",
        "If the information is not available in the context, return \"not available in the context\" and explain the situation.\n",
        "Question: {query}\n",
        "Context: {context}\n",
        "Answer:\n",
        "\"\"\"\n",
        "\n",
        "# Prepare the model input\n",
        "model_input = instruction\n",
        "\n",
        "# Generate Gemini response with streaming output\n",
        "print(get_gemini_response(\n",
        "    text_model,  # we are passing Gemini 1.0 Pro\n",
        "    model_input=model_input,\n",
        "    stream=True,\n",
        "    generation_config=GenerationConfig(temperature=0.2),\n",
        "))"
      ]
    },
    {
      "cell_type": "markdown",
      "metadata": {
        "id": "D4oxQO3bfKEs"
      },
      "source": [
        "接下來，讓我們來問問更多關於主角的故事吧~~"
      ]
    },
    {
      "cell_type": "code",
      "execution_count": null,
      "metadata": {
        "collapsed": true,
        "id": "o-GbnrEgXmr6"
      },
      "outputs": [],
      "source": [
        "while(True):\n",
        "  query = input()\n",
        "\n",
        "  # Matching user text query with \"chunk_embedding\" to find relevant chunks.\n",
        "  matching_results_text = get_similar_text_from_query(\n",
        "      query,\n",
        "      text_metadata_df,\n",
        "      column_name=\"text_embedding_chunk\",\n",
        "      top_n=7,\n",
        "      chunk_text=True,\n",
        "  )\n",
        "\n",
        "  # Print the matched text citations\n",
        "  #print_text_to_text_citation(matching_results_text, print_top=False, chunk_text=True)\n",
        "\n",
        "\n",
        "  print(\"\\n **** Result: ***** \\n\")\n",
        "\n",
        "  # All relevant text chunk found across documents based on user query\n",
        "  context = \"\\n\".join(\n",
        "      [value[\"chunk_text\"] for key, value in matching_results_text.items()]\n",
        "  )\n",
        "\n",
        "  instruction = f\"\"\"Answer the question with the given context.\n",
        "  If the information is not available in the context, return \"not available in the context\" and explain the situation.\n",
        "  Question: {query}\n",
        "  Context: {context}\n",
        "  Answer:\n",
        "  \"\"\"\n",
        "\n",
        "  # Prepare the model input\n",
        "  model_input = instruction\n",
        "\n",
        "  # Generate Gemini response with streaming output\n",
        "  print(get_gemini_response(\n",
        "      text_model,  # we are passing Gemini 1.0 Pro\n",
        "      model_input=model_input,\n",
        "      stream=True,\n",
        "      generation_config=GenerationConfig(temperature=0.2),\n",
        "  ))\n"
      ]
    }
  ],
  "metadata": {
    "colab": {
      "provenance": []
    },
    "kernelspec": {
      "display_name": "Python 3",
      "name": "python3"
    }
  },
  "nbformat": 4,
  "nbformat_minor": 0
}
